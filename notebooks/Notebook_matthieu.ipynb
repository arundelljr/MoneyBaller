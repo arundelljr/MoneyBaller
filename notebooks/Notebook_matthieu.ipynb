{
 "cells": [
  {
   "cell_type": "code",
   "execution_count": 29,
   "id": "91bc956d-eb78-42f5-b256-aa80a88d2e97",
   "metadata": {
    "execution": {
     "iopub.execute_input": "2025-10-27T14:10:36.690160Z",
     "iopub.status.busy": "2025-10-27T14:10:36.688756Z",
     "iopub.status.idle": "2025-10-27T14:10:37.529903Z",
     "shell.execute_reply": "2025-10-27T14:10:37.527578Z",
     "shell.execute_reply.started": "2025-10-27T14:10:36.690101Z"
    }
   },
   "outputs": [],
   "source": [
    "import pandas as pd\n",
    "%matplotlib inline\n",
    "import matplotlib.pyplot as plt"
   ]
  },
  {
   "cell_type": "code",
   "execution_count": 15,
   "id": "88c8d62f-8769-4774-8436-bf0375ad5b1b",
   "metadata": {
    "execution": {
     "iopub.execute_input": "2025-10-27T13:49:17.120163Z",
     "iopub.status.busy": "2025-10-27T13:49:17.118604Z",
     "iopub.status.idle": "2025-10-27T13:49:17.558145Z",
     "shell.execute_reply": "2025-10-27T13:49:17.556118Z",
     "shell.execute_reply.started": "2025-10-27T13:49:17.120078Z"
    }
   },
   "outputs": [
    {
     "name": "stderr",
     "output_type": "stream",
     "text": [
      "/tmp/ipykernel_973/1455216369.py:1: DtypeWarning: Columns (39) have mixed types. Specify dtype option on import or set low_memory=False.\n",
      "  df=pd.read_csv('FC26_20250921.csv')\n"
     ]
    }
   ],
   "source": [
    "df=pd.read_csv('FC26_20250921.csv')"
   ]
  },
  {
   "cell_type": "code",
   "execution_count": 17,
   "id": "56a0a3fa-c301-40a8-badd-76d3a5a9d46e",
   "metadata": {
    "execution": {
     "iopub.execute_input": "2025-10-27T13:49:35.831296Z",
     "iopub.status.busy": "2025-10-27T13:49:35.830508Z",
     "iopub.status.idle": "2025-10-27T13:49:35.854470Z",
     "shell.execute_reply": "2025-10-27T13:49:35.851468Z",
     "shell.execute_reply.started": "2025-10-27T13:49:35.831268Z"
    }
   },
   "outputs": [
    {
     "name": "stdout",
     "output_type": "stream",
     "text": [
      "<class 'pandas.core.frame.DataFrame'>\n",
      "RangeIndex: 18405 entries, 0 to 18404\n",
      "Columns: 110 entries, player_id to player_face_url\n",
      "dtypes: float64(16), int64(48), object(46)\n",
      "memory usage: 15.4+ MB\n"
     ]
    }
   ],
   "source": [
    "df.info()"
   ]
  },
  {
   "cell_type": "code",
   "execution_count": 19,
   "id": "8337675a-f780-457d-ac9a-3caf866bbc63",
   "metadata": {
    "execution": {
     "iopub.execute_input": "2025-10-27T13:49:47.978898Z",
     "iopub.status.busy": "2025-10-27T13:49:47.976955Z",
     "iopub.status.idle": "2025-10-27T13:49:47.987609Z",
     "shell.execute_reply": "2025-10-27T13:49:47.986444Z",
     "shell.execute_reply.started": "2025-10-27T13:49:47.978828Z"
    }
   },
   "outputs": [
    {
     "data": {
      "text/plain": [
       "(18405, 110)"
      ]
     },
     "execution_count": 19,
     "metadata": {},
     "output_type": "execute_result"
    }
   ],
   "source": [
    "df.shape"
   ]
  },
  {
   "cell_type": "code",
   "execution_count": 59,
   "id": "e7518fe3-c1cc-403a-8b1d-755a4de69e41",
   "metadata": {
    "execution": {
     "iopub.execute_input": "2025-10-27T14:49:39.202421Z",
     "iopub.status.busy": "2025-10-27T14:49:39.201378Z",
     "iopub.status.idle": "2025-10-27T14:49:39.422344Z",
     "shell.execute_reply": "2025-10-27T14:49:39.420505Z",
     "shell.execute_reply.started": "2025-10-27T14:49:39.202367Z"
    }
   },
   "outputs": [
    {
     "data": {
      "text/html": [
       "<div>\n",
       "<style scoped>\n",
       "    .dataframe tbody tr th:only-of-type {\n",
       "        vertical-align: middle;\n",
       "    }\n",
       "\n",
       "    .dataframe tbody tr th {\n",
       "        vertical-align: top;\n",
       "    }\n",
       "\n",
       "    .dataframe thead th {\n",
       "        text-align: right;\n",
       "    }\n",
       "</style>\n",
       "<table border=\"1\" class=\"dataframe\">\n",
       "  <thead>\n",
       "    <tr style=\"text-align: right;\">\n",
       "      <th></th>\n",
       "      <th>player_id</th>\n",
       "      <th>fifa_version</th>\n",
       "      <th>fifa_update</th>\n",
       "      <th>overall</th>\n",
       "      <th>potential</th>\n",
       "      <th>value_eur</th>\n",
       "      <th>wage_eur</th>\n",
       "      <th>age</th>\n",
       "      <th>height_cm</th>\n",
       "      <th>weight_kg</th>\n",
       "      <th>...</th>\n",
       "      <th>mentality_composure</th>\n",
       "      <th>defending_marking_awareness</th>\n",
       "      <th>defending_standing_tackle</th>\n",
       "      <th>defending_sliding_tackle</th>\n",
       "      <th>goalkeeping_diving</th>\n",
       "      <th>goalkeeping_handling</th>\n",
       "      <th>goalkeeping_kicking</th>\n",
       "      <th>goalkeeping_positioning</th>\n",
       "      <th>goalkeeping_reflexes</th>\n",
       "      <th>goalkeeping_speed</th>\n",
       "    </tr>\n",
       "  </thead>\n",
       "  <tbody>\n",
       "    <tr>\n",
       "      <th>count</th>\n",
       "      <td>18405.000000</td>\n",
       "      <td>18405.0</td>\n",
       "      <td>18405.0</td>\n",
       "      <td>18405.000000</td>\n",
       "      <td>18405.000000</td>\n",
       "      <td>1.840500e+04</td>\n",
       "      <td>18405.000000</td>\n",
       "      <td>18405.000000</td>\n",
       "      <td>18405.000000</td>\n",
       "      <td>18405.000000</td>\n",
       "      <td>...</td>\n",
       "      <td>18405.000000</td>\n",
       "      <td>18405.000000</td>\n",
       "      <td>18405.000000</td>\n",
       "      <td>18405.000000</td>\n",
       "      <td>18405.000000</td>\n",
       "      <td>18405.000000</td>\n",
       "      <td>18405.000000</td>\n",
       "      <td>18405.000000</td>\n",
       "      <td>18405.000000</td>\n",
       "      <td>2062.000000</td>\n",
       "    </tr>\n",
       "    <tr>\n",
       "      <th>mean</th>\n",
       "      <td>207378.375822</td>\n",
       "      <td>26.0</td>\n",
       "      <td>4.0</td>\n",
       "      <td>65.766965</td>\n",
       "      <td>71.165173</td>\n",
       "      <td>2.931633e+06</td>\n",
       "      <td>10096.055420</td>\n",
       "      <td>25.222548</td>\n",
       "      <td>182.001358</td>\n",
       "      <td>75.141755</td>\n",
       "      <td>...</td>\n",
       "      <td>57.747786</td>\n",
       "      <td>46.253572</td>\n",
       "      <td>48.435914</td>\n",
       "      <td>46.248737</td>\n",
       "      <td>16.285683</td>\n",
       "      <td>16.082749</td>\n",
       "      <td>15.998642</td>\n",
       "      <td>16.139147</td>\n",
       "      <td>16.343928</td>\n",
       "      <td>34.489816</td>\n",
       "    </tr>\n",
       "    <tr>\n",
       "      <th>std</th>\n",
       "      <td>73761.964821</td>\n",
       "      <td>0.0</td>\n",
       "      <td>0.0</td>\n",
       "      <td>6.980628</td>\n",
       "      <td>6.403862</td>\n",
       "      <td>7.947787e+06</td>\n",
       "      <td>20082.981891</td>\n",
       "      <td>4.773553</td>\n",
       "      <td>6.891484</td>\n",
       "      <td>6.891777</td>\n",
       "      <td>...</td>\n",
       "      <td>12.257447</td>\n",
       "      <td>20.723894</td>\n",
       "      <td>21.038765</td>\n",
       "      <td>20.575523</td>\n",
       "      <td>17.589875</td>\n",
       "      <td>17.002686</td>\n",
       "      <td>16.770157</td>\n",
       "      <td>17.162219</td>\n",
       "      <td>17.859712</td>\n",
       "      <td>10.552502</td>\n",
       "    </tr>\n",
       "    <tr>\n",
       "      <th>min</th>\n",
       "      <td>19541.000000</td>\n",
       "      <td>26.0</td>\n",
       "      <td>4.0</td>\n",
       "      <td>47.000000</td>\n",
       "      <td>49.000000</td>\n",
       "      <td>0.000000e+00</td>\n",
       "      <td>0.000000</td>\n",
       "      <td>16.000000</td>\n",
       "      <td>155.000000</td>\n",
       "      <td>47.000000</td>\n",
       "      <td>...</td>\n",
       "      <td>15.000000</td>\n",
       "      <td>5.000000</td>\n",
       "      <td>7.000000</td>\n",
       "      <td>6.000000</td>\n",
       "      <td>2.000000</td>\n",
       "      <td>2.000000</td>\n",
       "      <td>2.000000</td>\n",
       "      <td>2.000000</td>\n",
       "      <td>2.000000</td>\n",
       "      <td>15.000000</td>\n",
       "    </tr>\n",
       "    <tr>\n",
       "      <th>25%</th>\n",
       "      <td>195859.000000</td>\n",
       "      <td>26.0</td>\n",
       "      <td>4.0</td>\n",
       "      <td>61.000000</td>\n",
       "      <td>67.000000</td>\n",
       "      <td>4.750000e+05</td>\n",
       "      <td>1000.000000</td>\n",
       "      <td>21.000000</td>\n",
       "      <td>177.000000</td>\n",
       "      <td>70.000000</td>\n",
       "      <td>...</td>\n",
       "      <td>50.000000</td>\n",
       "      <td>28.000000</td>\n",
       "      <td>29.000000</td>\n",
       "      <td>26.000000</td>\n",
       "      <td>8.000000</td>\n",
       "      <td>8.000000</td>\n",
       "      <td>8.000000</td>\n",
       "      <td>8.000000</td>\n",
       "      <td>8.000000</td>\n",
       "      <td>26.000000</td>\n",
       "    </tr>\n",
       "    <tr>\n",
       "      <th>50%</th>\n",
       "      <td>237681.000000</td>\n",
       "      <td>26.0</td>\n",
       "      <td>4.0</td>\n",
       "      <td>66.000000</td>\n",
       "      <td>71.000000</td>\n",
       "      <td>1.000000e+06</td>\n",
       "      <td>4000.000000</td>\n",
       "      <td>25.000000</td>\n",
       "      <td>182.000000</td>\n",
       "      <td>75.000000</td>\n",
       "      <td>...</td>\n",
       "      <td>59.000000</td>\n",
       "      <td>52.000000</td>\n",
       "      <td>56.000000</td>\n",
       "      <td>53.000000</td>\n",
       "      <td>11.000000</td>\n",
       "      <td>11.000000</td>\n",
       "      <td>11.000000</td>\n",
       "      <td>11.000000</td>\n",
       "      <td>11.000000</td>\n",
       "      <td>33.000000</td>\n",
       "    </tr>\n",
       "    <tr>\n",
       "      <th>75%</th>\n",
       "      <td>260601.000000</td>\n",
       "      <td>26.0</td>\n",
       "      <td>4.0</td>\n",
       "      <td>70.000000</td>\n",
       "      <td>75.000000</td>\n",
       "      <td>2.100000e+06</td>\n",
       "      <td>10000.000000</td>\n",
       "      <td>29.000000</td>\n",
       "      <td>187.000000</td>\n",
       "      <td>80.000000</td>\n",
       "      <td>...</td>\n",
       "      <td>66.000000</td>\n",
       "      <td>63.000000</td>\n",
       "      <td>65.000000</td>\n",
       "      <td>63.000000</td>\n",
       "      <td>14.000000</td>\n",
       "      <td>14.000000</td>\n",
       "      <td>14.000000</td>\n",
       "      <td>14.000000</td>\n",
       "      <td>14.000000</td>\n",
       "      <td>43.000000</td>\n",
       "    </tr>\n",
       "    <tr>\n",
       "      <th>max</th>\n",
       "      <td>280142.000000</td>\n",
       "      <td>26.0</td>\n",
       "      <td>4.0</td>\n",
       "      <td>91.000000</td>\n",
       "      <td>95.000000</td>\n",
       "      <td>1.745000e+08</td>\n",
       "      <td>610000.000000</td>\n",
       "      <td>44.000000</td>\n",
       "      <td>210.000000</td>\n",
       "      <td>105.000000</td>\n",
       "      <td>...</td>\n",
       "      <td>93.000000</td>\n",
       "      <td>91.000000</td>\n",
       "      <td>91.000000</td>\n",
       "      <td>89.000000</td>\n",
       "      <td>90.000000</td>\n",
       "      <td>90.000000</td>\n",
       "      <td>91.000000</td>\n",
       "      <td>90.000000</td>\n",
       "      <td>90.000000</td>\n",
       "      <td>65.000000</td>\n",
       "    </tr>\n",
       "  </tbody>\n",
       "</table>\n",
       "<p>8 rows × 64 columns</p>\n",
       "</div>"
      ],
      "text/plain": [
       "           player_id  fifa_version  fifa_update       overall     potential  \\\n",
       "count   18405.000000       18405.0      18405.0  18405.000000  18405.000000   \n",
       "mean   207378.375822          26.0          4.0     65.766965     71.165173   \n",
       "std     73761.964821           0.0          0.0      6.980628      6.403862   \n",
       "min     19541.000000          26.0          4.0     47.000000     49.000000   \n",
       "25%    195859.000000          26.0          4.0     61.000000     67.000000   \n",
       "50%    237681.000000          26.0          4.0     66.000000     71.000000   \n",
       "75%    260601.000000          26.0          4.0     70.000000     75.000000   \n",
       "max    280142.000000          26.0          4.0     91.000000     95.000000   \n",
       "\n",
       "          value_eur       wage_eur           age     height_cm     weight_kg  \\\n",
       "count  1.840500e+04   18405.000000  18405.000000  18405.000000  18405.000000   \n",
       "mean   2.931633e+06   10096.055420     25.222548    182.001358     75.141755   \n",
       "std    7.947787e+06   20082.981891      4.773553      6.891484      6.891777   \n",
       "min    0.000000e+00       0.000000     16.000000    155.000000     47.000000   \n",
       "25%    4.750000e+05    1000.000000     21.000000    177.000000     70.000000   \n",
       "50%    1.000000e+06    4000.000000     25.000000    182.000000     75.000000   \n",
       "75%    2.100000e+06   10000.000000     29.000000    187.000000     80.000000   \n",
       "max    1.745000e+08  610000.000000     44.000000    210.000000    105.000000   \n",
       "\n",
       "       ...  mentality_composure  defending_marking_awareness  \\\n",
       "count  ...         18405.000000                 18405.000000   \n",
       "mean   ...            57.747786                    46.253572   \n",
       "std    ...            12.257447                    20.723894   \n",
       "min    ...            15.000000                     5.000000   \n",
       "25%    ...            50.000000                    28.000000   \n",
       "50%    ...            59.000000                    52.000000   \n",
       "75%    ...            66.000000                    63.000000   \n",
       "max    ...            93.000000                    91.000000   \n",
       "\n",
       "       defending_standing_tackle  defending_sliding_tackle  \\\n",
       "count               18405.000000              18405.000000   \n",
       "mean                   48.435914                 46.248737   \n",
       "std                    21.038765                 20.575523   \n",
       "min                     7.000000                  6.000000   \n",
       "25%                    29.000000                 26.000000   \n",
       "50%                    56.000000                 53.000000   \n",
       "75%                    65.000000                 63.000000   \n",
       "max                    91.000000                 89.000000   \n",
       "\n",
       "       goalkeeping_diving  goalkeeping_handling  goalkeeping_kicking  \\\n",
       "count        18405.000000          18405.000000         18405.000000   \n",
       "mean            16.285683             16.082749            15.998642   \n",
       "std             17.589875             17.002686            16.770157   \n",
       "min              2.000000              2.000000             2.000000   \n",
       "25%              8.000000              8.000000             8.000000   \n",
       "50%             11.000000             11.000000            11.000000   \n",
       "75%             14.000000             14.000000            14.000000   \n",
       "max             90.000000             90.000000            91.000000   \n",
       "\n",
       "       goalkeeping_positioning  goalkeeping_reflexes  goalkeeping_speed  \n",
       "count             18405.000000          18405.000000        2062.000000  \n",
       "mean                 16.139147             16.343928          34.489816  \n",
       "std                  17.162219             17.859712          10.552502  \n",
       "min                   2.000000              2.000000          15.000000  \n",
       "25%                   8.000000              8.000000          26.000000  \n",
       "50%                  11.000000             11.000000          33.000000  \n",
       "75%                  14.000000             14.000000          43.000000  \n",
       "max                  90.000000             90.000000          65.000000  \n",
       "\n",
       "[8 rows x 64 columns]"
      ]
     },
     "execution_count": 59,
     "metadata": {},
     "output_type": "execute_result"
    }
   ],
   "source": [
    "df.describe()"
   ]
  },
  {
   "cell_type": "code",
   "execution_count": 20,
   "id": "334b21f5-906a-4ad5-9222-b50bd9ed3133",
   "metadata": {
    "execution": {
     "iopub.execute_input": "2025-10-27T13:50:19.831510Z",
     "iopub.status.busy": "2025-10-27T13:50:19.830415Z",
     "iopub.status.idle": "2025-10-27T13:50:19.859041Z",
     "shell.execute_reply": "2025-10-27T13:50:19.857394Z",
     "shell.execute_reply.started": "2025-10-27T13:50:19.831453Z"
    }
   },
   "outputs": [
    {
     "data": {
      "text/html": [
       "<div>\n",
       "<style scoped>\n",
       "    .dataframe tbody tr th:only-of-type {\n",
       "        vertical-align: middle;\n",
       "    }\n",
       "\n",
       "    .dataframe tbody tr th {\n",
       "        vertical-align: top;\n",
       "    }\n",
       "\n",
       "    .dataframe thead th {\n",
       "        text-align: right;\n",
       "    }\n",
       "</style>\n",
       "<table border=\"1\" class=\"dataframe\">\n",
       "  <thead>\n",
       "    <tr style=\"text-align: right;\">\n",
       "      <th></th>\n",
       "      <th>player_id</th>\n",
       "      <th>player_url</th>\n",
       "      <th>fifa_version</th>\n",
       "      <th>fifa_update</th>\n",
       "      <th>fifa_update_date</th>\n",
       "      <th>short_name</th>\n",
       "      <th>long_name</th>\n",
       "      <th>player_positions</th>\n",
       "      <th>overall</th>\n",
       "      <th>potential</th>\n",
       "      <th>...</th>\n",
       "      <th>cdm</th>\n",
       "      <th>rdm</th>\n",
       "      <th>rwb</th>\n",
       "      <th>lb</th>\n",
       "      <th>lcb</th>\n",
       "      <th>cb</th>\n",
       "      <th>rcb</th>\n",
       "      <th>rb</th>\n",
       "      <th>gk</th>\n",
       "      <th>player_face_url</th>\n",
       "    </tr>\n",
       "  </thead>\n",
       "  <tbody>\n",
       "    <tr>\n",
       "      <th>0</th>\n",
       "      <td>252371</td>\n",
       "      <td>/player/252371/jude-bellingham/260004/</td>\n",
       "      <td>26</td>\n",
       "      <td>4</td>\n",
       "      <td>2025-09-19</td>\n",
       "      <td>J. Bellingham</td>\n",
       "      <td>Jude Victor William Bellingham</td>\n",
       "      <td>CAM, CM</td>\n",
       "      <td>90</td>\n",
       "      <td>94</td>\n",
       "      <td>...</td>\n",
       "      <td>85+3</td>\n",
       "      <td>85+3</td>\n",
       "      <td>83+3</td>\n",
       "      <td>82+3</td>\n",
       "      <td>81+3</td>\n",
       "      <td>81+3</td>\n",
       "      <td>81+3</td>\n",
       "      <td>82+3</td>\n",
       "      <td>18+3</td>\n",
       "      <td>https://cdn.sofifa.net/players/252/371/26_120.png</td>\n",
       "    </tr>\n",
       "    <tr>\n",
       "      <th>1</th>\n",
       "      <td>239053</td>\n",
       "      <td>/player/239053/federico-valverde/260004/</td>\n",
       "      <td>26</td>\n",
       "      <td>4</td>\n",
       "      <td>2025-09-19</td>\n",
       "      <td>F. Valverde</td>\n",
       "      <td>Federico Santiago Valverde Dipetta</td>\n",
       "      <td>CM, CDM, RB</td>\n",
       "      <td>89</td>\n",
       "      <td>90</td>\n",
       "      <td>...</td>\n",
       "      <td>87+3</td>\n",
       "      <td>87+3</td>\n",
       "      <td>86+3</td>\n",
       "      <td>86+3</td>\n",
       "      <td>83+3</td>\n",
       "      <td>83+3</td>\n",
       "      <td>83+3</td>\n",
       "      <td>86+3</td>\n",
       "      <td>18+3</td>\n",
       "      <td>https://cdn.sofifa.net/players/239/053/26_120.png</td>\n",
       "    </tr>\n",
       "    <tr>\n",
       "      <th>2</th>\n",
       "      <td>212622</td>\n",
       "      <td>/player/212622/joshua-kimmich/260004/</td>\n",
       "      <td>26</td>\n",
       "      <td>4</td>\n",
       "      <td>2025-09-19</td>\n",
       "      <td>J. Kimmich</td>\n",
       "      <td>Joshua Walter Kimmich</td>\n",
       "      <td>CDM, RB, CM</td>\n",
       "      <td>89</td>\n",
       "      <td>89</td>\n",
       "      <td>...</td>\n",
       "      <td>87+2</td>\n",
       "      <td>87+2</td>\n",
       "      <td>86+3</td>\n",
       "      <td>85+3</td>\n",
       "      <td>82+3</td>\n",
       "      <td>82+3</td>\n",
       "      <td>82+3</td>\n",
       "      <td>85+3</td>\n",
       "      <td>21+3</td>\n",
       "      <td>https://cdn.sofifa.net/players/212/622/26_120.png</td>\n",
       "    </tr>\n",
       "    <tr>\n",
       "      <th>3</th>\n",
       "      <td>235212</td>\n",
       "      <td>/player/235212/achraf-hakimi/260004/</td>\n",
       "      <td>26</td>\n",
       "      <td>4</td>\n",
       "      <td>2025-09-19</td>\n",
       "      <td>A. Hakimi</td>\n",
       "      <td>Achraf Hakimi Mouhأشرف حكيمي</td>\n",
       "      <td>RB, RM</td>\n",
       "      <td>89</td>\n",
       "      <td>90</td>\n",
       "      <td>...</td>\n",
       "      <td>83+3</td>\n",
       "      <td>83+3</td>\n",
       "      <td>86+3</td>\n",
       "      <td>86+3</td>\n",
       "      <td>81+3</td>\n",
       "      <td>81+3</td>\n",
       "      <td>81+3</td>\n",
       "      <td>86+3</td>\n",
       "      <td>17+3</td>\n",
       "      <td>https://cdn.sofifa.net/players/235/212/26_120.png</td>\n",
       "    </tr>\n",
       "    <tr>\n",
       "      <th>4</th>\n",
       "      <td>224232</td>\n",
       "      <td>/player/224232/nicolo-barella/260004/</td>\n",
       "      <td>26</td>\n",
       "      <td>4</td>\n",
       "      <td>2025-09-19</td>\n",
       "      <td>N. Barella</td>\n",
       "      <td>Nicolò Barella</td>\n",
       "      <td>CM</td>\n",
       "      <td>87</td>\n",
       "      <td>87</td>\n",
       "      <td>...</td>\n",
       "      <td>85+2</td>\n",
       "      <td>85+2</td>\n",
       "      <td>84+3</td>\n",
       "      <td>83+3</td>\n",
       "      <td>80+3</td>\n",
       "      <td>80+3</td>\n",
       "      <td>80+3</td>\n",
       "      <td>83+3</td>\n",
       "      <td>19+3</td>\n",
       "      <td>https://cdn.sofifa.net/players/224/232/26_120.png</td>\n",
       "    </tr>\n",
       "  </tbody>\n",
       "</table>\n",
       "<p>5 rows × 110 columns</p>\n",
       "</div>"
      ],
      "text/plain": [
       "   player_id                                player_url  fifa_version  \\\n",
       "0     252371    /player/252371/jude-bellingham/260004/            26   \n",
       "1     239053  /player/239053/federico-valverde/260004/            26   \n",
       "2     212622     /player/212622/joshua-kimmich/260004/            26   \n",
       "3     235212      /player/235212/achraf-hakimi/260004/            26   \n",
       "4     224232     /player/224232/nicolo-barella/260004/            26   \n",
       "\n",
       "   fifa_update fifa_update_date     short_name  \\\n",
       "0            4       2025-09-19  J. Bellingham   \n",
       "1            4       2025-09-19    F. Valverde   \n",
       "2            4       2025-09-19     J. Kimmich   \n",
       "3            4       2025-09-19      A. Hakimi   \n",
       "4            4       2025-09-19     N. Barella   \n",
       "\n",
       "                            long_name player_positions  overall  potential  \\\n",
       "0      Jude Victor William Bellingham          CAM, CM       90         94   \n",
       "1  Federico Santiago Valverde Dipetta      CM, CDM, RB       89         90   \n",
       "2               Joshua Walter Kimmich      CDM, RB, CM       89         89   \n",
       "3        Achraf Hakimi Mouhأشرف حكيمي           RB, RM       89         90   \n",
       "4                      Nicolò Barella               CM       87         87   \n",
       "\n",
       "   ...   cdm   rdm   rwb    lb   lcb    cb   rcb    rb    gk  \\\n",
       "0  ...  85+3  85+3  83+3  82+3  81+3  81+3  81+3  82+3  18+3   \n",
       "1  ...  87+3  87+3  86+3  86+3  83+3  83+3  83+3  86+3  18+3   \n",
       "2  ...  87+2  87+2  86+3  85+3  82+3  82+3  82+3  85+3  21+3   \n",
       "3  ...  83+3  83+3  86+3  86+3  81+3  81+3  81+3  86+3  17+3   \n",
       "4  ...  85+2  85+2  84+3  83+3  80+3  80+3  80+3  83+3  19+3   \n",
       "\n",
       "                                     player_face_url  \n",
       "0  https://cdn.sofifa.net/players/252/371/26_120.png  \n",
       "1  https://cdn.sofifa.net/players/239/053/26_120.png  \n",
       "2  https://cdn.sofifa.net/players/212/622/26_120.png  \n",
       "3  https://cdn.sofifa.net/players/235/212/26_120.png  \n",
       "4  https://cdn.sofifa.net/players/224/232/26_120.png  \n",
       "\n",
       "[5 rows x 110 columns]"
      ]
     },
     "execution_count": 20,
     "metadata": {},
     "output_type": "execute_result"
    }
   ],
   "source": [
    "df.head()"
   ]
  },
  {
   "cell_type": "code",
   "execution_count": 30,
   "id": "69885615-7a4a-4078-9b36-8192413d0013",
   "metadata": {
    "execution": {
     "iopub.execute_input": "2025-10-27T14:10:58.778047Z",
     "iopub.status.busy": "2025-10-27T14:10:58.777446Z",
     "iopub.status.idle": "2025-10-27T14:10:58.838166Z",
     "shell.execute_reply": "2025-10-27T14:10:58.836609Z",
     "shell.execute_reply.started": "2025-10-27T14:10:58.778004Z"
    }
   },
   "outputs": [
    {
     "data": {
      "text/plain": [
       "player_id           0\n",
       "player_url          0\n",
       "fifa_version        0\n",
       "fifa_update         0\n",
       "fifa_update_date    0\n",
       "                   ..\n",
       "cb                  0\n",
       "rcb                 0\n",
       "rb                  0\n",
       "gk                  0\n",
       "player_face_url     0\n",
       "Length: 110, dtype: int64"
      ]
     },
     "execution_count": 30,
     "metadata": {},
     "output_type": "execute_result"
    }
   ],
   "source": [
    "df.isnull().sum()"
   ]
  },
  {
   "cell_type": "code",
   "execution_count": 34,
   "id": "4b7d75d6-1c25-49ca-aa5e-0291e4459679",
   "metadata": {
    "execution": {
     "iopub.execute_input": "2025-10-27T14:15:19.072242Z",
     "iopub.status.busy": "2025-10-27T14:15:19.071580Z",
     "iopub.status.idle": "2025-10-27T14:15:19.082630Z",
     "shell.execute_reply": "2025-10-27T14:15:19.081283Z",
     "shell.execute_reply.started": "2025-10-27T14:15:19.072197Z"
    }
   },
   "outputs": [
    {
     "data": {
      "text/plain": [
       "player_id            int64\n",
       "player_url          object\n",
       "fifa_version         int64\n",
       "fifa_update          int64\n",
       "fifa_update_date    object\n",
       "                     ...  \n",
       "cb                  object\n",
       "rcb                 object\n",
       "rb                  object\n",
       "gk                  object\n",
       "player_face_url     object\n",
       "Length: 110, dtype: object"
      ]
     },
     "execution_count": 34,
     "metadata": {},
     "output_type": "execute_result"
    }
   ],
   "source": [
    "df.dtypes"
   ]
  },
  {
   "cell_type": "code",
   "execution_count": 31,
   "id": "e77b22a1-3d28-49c0-aa36-366c09de299f",
   "metadata": {
    "collapsed": true,
    "execution": {
     "iopub.execute_input": "2025-10-27T14:14:34.781932Z",
     "iopub.status.busy": "2025-10-27T14:14:34.780826Z",
     "iopub.status.idle": "2025-10-27T14:14:34.791727Z",
     "shell.execute_reply": "2025-10-27T14:14:34.790317Z",
     "shell.execute_reply.started": "2025-10-27T14:14:34.781892Z"
    },
    "jupyter": {
     "outputs_hidden": true
    },
    "scrolled": true
   },
   "outputs": [
    {
     "data": {
      "text/plain": [
       "['player_id',\n",
       " 'player_url',\n",
       " 'fifa_version',\n",
       " 'fifa_update',\n",
       " 'fifa_update_date',\n",
       " 'short_name',\n",
       " 'long_name',\n",
       " 'player_positions',\n",
       " 'overall',\n",
       " 'potential',\n",
       " 'value_eur',\n",
       " 'wage_eur',\n",
       " 'age',\n",
       " 'dob',\n",
       " 'height_cm',\n",
       " 'weight_kg',\n",
       " 'league_id',\n",
       " 'league_name',\n",
       " 'league_level',\n",
       " 'club_team_id',\n",
       " 'club_name',\n",
       " 'club_position',\n",
       " 'club_jersey_number',\n",
       " 'club_loaned_from',\n",
       " 'club_joined_date',\n",
       " 'club_contract_valid_until_year',\n",
       " 'nationality_id',\n",
       " 'nationality_name',\n",
       " 'nation_team_id',\n",
       " 'nation_position',\n",
       " 'nation_jersey_number',\n",
       " 'preferred_foot',\n",
       " 'weak_foot',\n",
       " 'skill_moves',\n",
       " 'international_reputation',\n",
       " 'work_rate',\n",
       " 'body_type',\n",
       " 'real_face',\n",
       " 'release_clause_eur',\n",
       " 'player_tags',\n",
       " 'player_traits',\n",
       " 'pace',\n",
       " 'shooting',\n",
       " 'passing',\n",
       " 'dribbling',\n",
       " 'defending',\n",
       " 'physic',\n",
       " 'attacking_crossing',\n",
       " 'attacking_finishing',\n",
       " 'attacking_heading_accuracy',\n",
       " 'attacking_short_passing',\n",
       " 'attacking_volleys',\n",
       " 'skill_dribbling',\n",
       " 'skill_curve',\n",
       " 'skill_fk_accuracy',\n",
       " 'skill_long_passing',\n",
       " 'skill_ball_control',\n",
       " 'movement_acceleration',\n",
       " 'movement_sprint_speed',\n",
       " 'movement_agility',\n",
       " 'movement_reactions',\n",
       " 'movement_balance',\n",
       " 'power_shot_power',\n",
       " 'power_jumping',\n",
       " 'power_stamina',\n",
       " 'power_strength',\n",
       " 'power_long_shots',\n",
       " 'mentality_aggression',\n",
       " 'mentality_interceptions',\n",
       " 'mentality_positioning',\n",
       " 'mentality_vision',\n",
       " 'mentality_penalties',\n",
       " 'mentality_composure',\n",
       " 'defending_marking_awareness',\n",
       " 'defending_standing_tackle',\n",
       " 'defending_sliding_tackle',\n",
       " 'goalkeeping_diving',\n",
       " 'goalkeeping_handling',\n",
       " 'goalkeeping_kicking',\n",
       " 'goalkeeping_positioning',\n",
       " 'goalkeeping_reflexes',\n",
       " 'goalkeeping_speed',\n",
       " 'ls',\n",
       " 'st',\n",
       " 'rs',\n",
       " 'lw',\n",
       " 'lf',\n",
       " 'cf',\n",
       " 'rf',\n",
       " 'rw',\n",
       " 'lam',\n",
       " 'cam',\n",
       " 'ram',\n",
       " 'lm',\n",
       " 'lcm',\n",
       " 'cm',\n",
       " 'rcm',\n",
       " 'rm',\n",
       " 'lwb',\n",
       " 'ldm',\n",
       " 'cdm',\n",
       " 'rdm',\n",
       " 'rwb',\n",
       " 'lb',\n",
       " 'lcb',\n",
       " 'cb',\n",
       " 'rcb',\n",
       " 'rb',\n",
       " 'gk',\n",
       " 'player_face_url']"
      ]
     },
     "execution_count": 31,
     "metadata": {},
     "output_type": "execute_result"
    }
   ],
   "source": [
    "list(df.columns)"
   ]
  },
  {
   "cell_type": "code",
   "execution_count": 57,
   "id": "25dabf80-0cfc-4fa6-a697-b0aade1bedf4",
   "metadata": {
    "execution": {
     "iopub.execute_input": "2025-10-27T14:48:54.179989Z",
     "iopub.status.busy": "2025-10-27T14:48:54.179635Z",
     "iopub.status.idle": "2025-10-27T14:48:54.203120Z",
     "shell.execute_reply": "2025-10-27T14:48:54.199834Z",
     "shell.execute_reply.started": "2025-10-27T14:48:54.179963Z"
    }
   },
   "outputs": [],
   "source": [
    "numeriques = df.select_dtypes(include=['int64', 'float64']).columns.tolist()\n",
    "categories = df.select_dtypes(include=['object', 'category']).columns.tolist()\n"
   ]
  },
  {
   "cell_type": "code",
   "execution_count": 39,
   "id": "4ce4af69-fae0-4e2d-80ed-21494b638c00",
   "metadata": {
    "execution": {
     "iopub.execute_input": "2025-10-27T14:34:50.517386Z",
     "iopub.status.busy": "2025-10-27T14:34:50.515368Z",
     "iopub.status.idle": "2025-10-27T14:34:50.531838Z",
     "shell.execute_reply": "2025-10-27T14:34:50.529441Z",
     "shell.execute_reply.started": "2025-10-27T14:34:50.517254Z"
    },
    "scrolled": true
   },
   "outputs": [
    {
     "data": {
      "text/plain": [
       "['player_id',\n",
       " 'fifa_version',\n",
       " 'fifa_update',\n",
       " 'overall',\n",
       " 'potential',\n",
       " 'value_eur',\n",
       " 'wage_eur',\n",
       " 'age',\n",
       " 'height_cm',\n",
       " 'weight_kg',\n",
       " 'league_id',\n",
       " 'league_level',\n",
       " 'club_team_id',\n",
       " 'club_jersey_number',\n",
       " 'club_contract_valid_until_year',\n",
       " 'nationality_id',\n",
       " 'nation_team_id',\n",
       " 'nation_jersey_number',\n",
       " 'weak_foot',\n",
       " 'skill_moves',\n",
       " 'international_reputation',\n",
       " 'work_rate',\n",
       " 'release_clause_eur',\n",
       " 'pace',\n",
       " 'shooting',\n",
       " 'passing',\n",
       " 'dribbling',\n",
       " 'defending',\n",
       " 'physic',\n",
       " 'attacking_crossing',\n",
       " 'attacking_finishing',\n",
       " 'attacking_heading_accuracy',\n",
       " 'attacking_short_passing',\n",
       " 'attacking_volleys',\n",
       " 'skill_dribbling',\n",
       " 'skill_curve',\n",
       " 'skill_fk_accuracy',\n",
       " 'skill_long_passing',\n",
       " 'skill_ball_control',\n",
       " 'movement_acceleration',\n",
       " 'movement_sprint_speed',\n",
       " 'movement_agility',\n",
       " 'movement_reactions',\n",
       " 'movement_balance',\n",
       " 'power_shot_power',\n",
       " 'power_jumping',\n",
       " 'power_stamina',\n",
       " 'power_strength',\n",
       " 'power_long_shots',\n",
       " 'mentality_aggression',\n",
       " 'mentality_interceptions',\n",
       " 'mentality_positioning',\n",
       " 'mentality_vision',\n",
       " 'mentality_penalties',\n",
       " 'mentality_composure',\n",
       " 'defending_marking_awareness',\n",
       " 'defending_standing_tackle',\n",
       " 'defending_sliding_tackle',\n",
       " 'goalkeeping_diving',\n",
       " 'goalkeeping_handling',\n",
       " 'goalkeeping_kicking',\n",
       " 'goalkeeping_positioning',\n",
       " 'goalkeeping_reflexes',\n",
       " 'goalkeeping_speed']"
      ]
     },
     "execution_count": 39,
     "metadata": {},
     "output_type": "execute_result"
    }
   ],
   "source": [
    "numeriques"
   ]
  },
  {
   "cell_type": "code",
   "execution_count": null,
   "id": "f90170d6-f33d-44c1-a086-3b1c53d98238",
   "metadata": {},
   "outputs": [],
   "source": []
  },
  {
   "cell_type": "code",
   "execution_count": 40,
   "id": "2576fd7f-8e62-4a93-8543-47574fcd00b1",
   "metadata": {
    "execution": {
     "iopub.execute_input": "2025-10-27T14:35:40.428104Z",
     "iopub.status.busy": "2025-10-27T14:35:40.427150Z",
     "iopub.status.idle": "2025-10-27T14:35:40.437399Z",
     "shell.execute_reply": "2025-10-27T14:35:40.436185Z",
     "shell.execute_reply.started": "2025-10-27T14:35:40.428058Z"
    },
    "jupyter": {
     "source_hidden": true
    }
   },
   "outputs": [],
   "source": [
    "selected_numerical_features = ['player_id',\n",
    " 'fifa_version',\n",
    " 'fifa_update',\n",
    " 'overall',\n",
    " 'potential',\n",
    " 'value_eur',\n",
    " 'wage_eur',\n",
    " 'age',\n",
    " 'height_cm',\n",
    " 'weight_kg',\n",
    " 'league_id',\n",
    " 'league_level',\n",
    " 'club_team_id',\n",
    " 'club_jersey_number',\n",
    " 'club_contract_valid_until_year',\n",
    " 'nationality_id',\n",
    " 'nation_team_id',\n",
    " 'nation_jersey_number',\n",
    " 'weak_foot',\n",
    " 'skill_moves',\n",
    " 'international_reputation',\n",
    " 'work_rate',\n",
    " 'release_clause_eur',\n",
    " 'pace',\n",
    " 'shooting',\n",
    " 'passing',\n",
    " 'dribbling',\n",
    " 'defending',\n",
    " 'physic',\n",
    " 'attacking_crossing',\n",
    " 'attacking_finishing',\n",
    " 'attacking_heading_accuracy',\n",
    " 'attacking_short_passing',\n",
    " 'attacking_volleys',\n",
    " 'skill_dribbling',\n",
    " 'skill_curve',\n",
    " 'skill_fk_accuracy',\n",
    " 'skill_long_passing',\n",
    " 'skill_ball_control',\n",
    " 'movement_acceleration',\n",
    " 'movement_sprint_speed',\n",
    " 'movement_agility',\n",
    " 'movement_reactions',\n",
    " 'movement_balance',\n",
    " 'power_shot_power',\n",
    " 'power_jumping',\n",
    " 'power_stamina',\n",
    " 'power_strength',\n",
    " 'power_long_shots',\n",
    " 'mentality_aggression',\n",
    " 'mentality_interceptions',\n",
    " 'mentality_positioning',\n",
    " 'mentality_vision',\n",
    " 'mentality_penalties',\n",
    " 'mentality_composure',\n",
    " 'defending_marking_awareness',\n",
    " 'defending_standing_tackle',\n",
    " 'defending_sliding_tackle',\n",
    " 'goalkeeping_diving',\n",
    " 'goalkeeping_handling',\n",
    " 'goalkeeping_kicking',\n",
    " 'goalkeeping_positioning',\n",
    " 'goalkeeping_reflexes',\n",
    " 'goalkeeping_speed']"
   ]
  },
  {
   "cell_type": "code",
   "execution_count": 41,
   "id": "e309210b-fad5-4597-9ee8-ec5a740e7dcc",
   "metadata": {
    "execution": {
     "iopub.execute_input": "2025-10-27T14:36:27.481110Z",
     "iopub.status.busy": "2025-10-27T14:36:27.480097Z",
     "iopub.status.idle": "2025-10-27T14:36:27.489530Z",
     "shell.execute_reply": "2025-10-27T14:36:27.488085Z",
     "shell.execute_reply.started": "2025-10-27T14:36:27.481074Z"
    }
   },
   "outputs": [
    {
     "data": {
      "text/plain": [
       "['player_url',\n",
       " 'fifa_update_date',\n",
       " 'short_name',\n",
       " 'long_name',\n",
       " 'player_positions',\n",
       " 'dob',\n",
       " 'league_name',\n",
       " 'club_name',\n",
       " 'club_position',\n",
       " 'club_loaned_from',\n",
       " 'club_joined_date',\n",
       " 'nationality_name',\n",
       " 'nation_position',\n",
       " 'preferred_foot',\n",
       " 'body_type',\n",
       " 'real_face',\n",
       " 'player_tags',\n",
       " 'player_traits',\n",
       " 'ls',\n",
       " 'st',\n",
       " 'rs',\n",
       " 'lw',\n",
       " 'lf',\n",
       " 'cf',\n",
       " 'rf',\n",
       " 'rw',\n",
       " 'lam',\n",
       " 'cam',\n",
       " 'ram',\n",
       " 'lm',\n",
       " 'lcm',\n",
       " 'cm',\n",
       " 'rcm',\n",
       " 'rm',\n",
       " 'lwb',\n",
       " 'ldm',\n",
       " 'cdm',\n",
       " 'rdm',\n",
       " 'rwb',\n",
       " 'lb',\n",
       " 'lcb',\n",
       " 'cb',\n",
       " 'rcb',\n",
       " 'rb',\n",
       " 'gk',\n",
       " 'player_face_url']"
      ]
     },
     "execution_count": 41,
     "metadata": {},
     "output_type": "execute_result"
    }
   ],
   "source": [
    "categories"
   ]
  },
  {
   "cell_type": "code",
   "execution_count": null,
   "id": "bd1e9888-a39d-4209-b907-26ed51b8a8c3",
   "metadata": {},
   "outputs": [],
   "source": [
    "#df.counted_sort()"
   ]
  },
  {
   "cell_type": "code",
   "execution_count": 42,
   "id": "7f13d461-4672-4cc1-b993-bc7590c367b0",
   "metadata": {
    "execution": {
     "iopub.execute_input": "2025-10-27T14:36:39.209248Z",
     "iopub.status.busy": "2025-10-27T14:36:39.208130Z",
     "iopub.status.idle": "2025-10-27T14:36:39.216038Z",
     "shell.execute_reply": "2025-10-27T14:36:39.214518Z",
     "shell.execute_reply.started": "2025-10-27T14:36:39.209201Z"
    },
    "jupyter": {
     "source_hidden": true
    }
   },
   "outputs": [],
   "source": [
    "selected_categories_features = ['player_url',\n",
    " 'fifa_update_date',\n",
    " 'short_name',\n",
    " 'long_name',\n",
    " 'player_positions',\n",
    " 'dob',\n",
    " 'league_name',\n",
    " 'club_name',\n",
    " 'club_position',\n",
    " 'club_loaned_from',\n",
    " 'club_joined_date',\n",
    " 'nationality_name',\n",
    " 'nation_position',\n",
    " 'preferred_foot',\n",
    " 'body_type',\n",
    " 'real_face',\n",
    " 'player_tags',\n",
    " 'player_traits']"
   ]
  },
  {
   "cell_type": "code",
   "execution_count": 44,
   "id": "c7240a89-fbdf-4541-8eec-56a989464373",
   "metadata": {
    "execution": {
     "iopub.execute_input": "2025-10-27T14:38:57.278105Z",
     "iopub.status.busy": "2025-10-27T14:38:57.277539Z",
     "iopub.status.idle": "2025-10-27T14:38:57.436229Z",
     "shell.execute_reply": "2025-10-27T14:38:57.434871Z",
     "shell.execute_reply.started": "2025-10-27T14:38:57.278048Z"
    },
    "scrolled": true
   },
   "outputs": [
    {
     "data": {
      "text/plain": [
       "0        False\n",
       "1        False\n",
       "2        False\n",
       "3        False\n",
       "4        False\n",
       "         ...  \n",
       "18400    False\n",
       "18401    False\n",
       "18402    False\n",
       "18403    False\n",
       "18404    False\n",
       "Length: 18405, dtype: bool"
      ]
     },
     "execution_count": 44,
     "metadata": {},
     "output_type": "execute_result"
    }
   ],
   "source": [
    "#plot\n",
    "df.duplicated(subset=None, keep='first') "
   ]
  },
  {
   "cell_type": "code",
   "execution_count": null,
   "id": "5251371b-38b1-40f1-8d10-946dcdc2b611",
   "metadata": {},
   "outputs": [],
   "source": []
  },
  {
   "cell_type": "code",
   "execution_count": 79,
   "id": "3a6f93c4-5ba3-400f-9ded-c00d14b161b1",
   "metadata": {
    "execution": {
     "iopub.execute_input": "2025-10-27T15:21:05.082548Z",
     "iopub.status.busy": "2025-10-27T15:21:05.081723Z",
     "iopub.status.idle": "2025-10-27T15:21:05.087236Z",
     "shell.execute_reply": "2025-10-27T15:21:05.085924Z",
     "shell.execute_reply.started": "2025-10-27T15:21:05.082522Z"
    }
   },
   "outputs": [],
   "source": [
    "#player ratings (overall, potential)\n",
    "x='wage_eur'\n",
    "y='overall'\n",
    "z='potential'"
   ]
  },
  {
   "cell_type": "code",
   "execution_count": 71,
   "id": "0ad9491f-e12a-47be-9489-3b95f402c773",
   "metadata": {
    "execution": {
     "iopub.execute_input": "2025-10-27T15:17:47.167130Z",
     "iopub.status.busy": "2025-10-27T15:17:47.166320Z",
     "iopub.status.idle": "2025-10-27T15:17:47.416745Z",
     "shell.execute_reply": "2025-10-27T15:17:47.414669Z",
     "shell.execute_reply.started": "2025-10-27T15:17:47.167051Z"
    }
   },
   "outputs": [
    {
     "data": {
      "text/plain": [
       "<Axes: >"
      ]
     },
     "execution_count": 71,
     "metadata": {},
     "output_type": "execute_result"
    },
    {
     "data": {
      "image/png": "[encoded data removed]",
      "text/plain": [
       "<Figure size 640x480 with 1 Axes>"
      ]
     },
     "metadata": {},
     "output_type": "display_data"
    }
   ],
   "source": [
    "df.wage_eur\t.plot()"
   ]
  },
  {
   "cell_type": "code",
   "execution_count": 73,
   "id": "5f571098-a608-403e-9377-d491737b2158",
   "metadata": {
    "execution": {
     "iopub.execute_input": "2025-10-27T15:18:28.958108Z",
     "iopub.status.busy": "2025-10-27T15:18:28.957160Z",
     "iopub.status.idle": "2025-10-27T15:18:29.361038Z",
     "shell.execute_reply": "2025-10-27T15:18:29.359742Z",
     "shell.execute_reply.started": "2025-10-27T15:18:28.957897Z"
    }
   },
   "outputs": [
    {
     "data": {
      "text/plain": [
       "<Axes: ylabel='Frequency'>"
      ]
     },
     "execution_count": 73,
     "metadata": {},
     "output_type": "execute_result"
    },
    {
     "data": {
      "image/png": "[encoded data removed]",
      "text/plain": [
       "<Figure size 640x480 with 1 Axes>"
      ]
     },
     "metadata": {},
     "output_type": "display_data"
    }
   ],
   "source": [
    "#str is important on wages and bins are to create\n",
    "df.wage_eur\t.plot(kind='hist', bins=200)"
   ]
  },
  {
   "cell_type": "code",
   "execution_count": 62,
   "id": "36ba7661-acfa-4a41-8492-15a075270986",
   "metadata": {
    "execution": {
     "iopub.execute_input": "2025-10-27T14:58:54.576487Z",
     "iopub.status.busy": "2025-10-27T14:58:54.574762Z",
     "iopub.status.idle": "2025-10-27T14:58:54.748770Z",
     "shell.execute_reply": "2025-10-27T14:58:54.747320Z",
     "shell.execute_reply.started": "2025-10-27T14:58:54.576427Z"
    }
   },
   "outputs": [
    {
     "data": {
      "text/plain": [
       "Text(0.5, 1.0, 'performance')"
      ]
     },
     "execution_count": 62,
     "metadata": {},
     "output_type": "execute_result"
    },
    {
     "data": {
      "image/png": "[encoded data removed]",
      "text/plain": [
       "<Figure size 1400x300 with 1 Axes>"
      ]
     },
     "metadata": {},
     "output_type": "display_data"
    }
   ],
   "source": [
    "df.overall.hist(bins=5, figsize=(14,3))\n",
    "plt.xlabel('categories')\n",
    "plt.title('performance')"
   ]
  },
  {
   "cell_type": "code",
   "execution_count": 80,
   "id": "aa741566-67f6-4b7a-ae80-c50c594a82db",
   "metadata": {
    "execution": {
     "iopub.execute_input": "2025-10-27T15:21:22.101450Z",
     "iopub.status.busy": "2025-10-27T15:21:22.100646Z",
     "iopub.status.idle": "2025-10-27T15:21:23.632643Z",
     "shell.execute_reply": "2025-10-27T15:21:23.631287Z",
     "shell.execute_reply.started": "2025-10-27T15:21:22.101408Z"
    },
    "scrolled": true
   },
   "outputs": [
    {
     "data": {
      "image/png": "[encoded data removed]",
      "text/plain": [
       "<Figure size 640x480 with 1 Axes>"
      ]
     },
     "metadata": {},
     "output_type": "display_data"
    }
   ],
   "source": [
    "import seaborn as sns\n",
    "data_analysis=sns.regplot(data=df,x=x,y=y,line_kws={'color':'r'})"
   ]
  },
  {
   "cell_type": "code",
   "execution_count": 82,
   "id": "39402494-e361-4c9e-b1b6-51c55ac6a7c9",
   "metadata": {
    "execution": {
     "iopub.execute_input": "2025-10-27T15:45:27.076813Z",
     "iopub.status.busy": "2025-10-27T15:45:27.076069Z",
     "iopub.status.idle": "2025-10-27T15:45:27.114436Z",
     "shell.execute_reply": "2025-10-27T15:45:27.112485Z",
     "shell.execute_reply.started": "2025-10-27T15:45:27.076774Z"
    },
    "scrolled": true
   },
   "outputs": [
    {
     "name": "stdout",
     "output_type": "stream",
     "text": [
      "     player_id                                         player_url  \\\n",
      "0       252371             /player/252371/jude-bellingham/260004/   \n",
      "1       239053           /player/239053/federico-valverde/260004/   \n",
      "21      209331               /player/209331/mohamed-salah/260004/   \n",
      "52      231747               /player/231747/kylian-mbappe/260004/   \n",
      "459     238794  /player/238794/vinicius-jose-de-oliveira-junio...   \n",
      "\n",
      "     fifa_version  fifa_update fifa_update_date     short_name  \\\n",
      "0              26            4       2025-09-19  J. Bellingham   \n",
      "1              26            4       2025-09-19    F. Valverde   \n",
      "21             26            4       2025-09-19       M. Salah   \n",
      "52             26            4       2025-09-19      K. Mbappé   \n",
      "459            26            4       2025-09-19       Vini Jr.   \n",
      "\n",
      "                                   long_name player_positions  overall  \\\n",
      "0             Jude Victor William Bellingham          CAM, CM       90   \n",
      "1         Federico Santiago Valverde Dipetta      CM, CDM, RB       89   \n",
      "21        Mohamed Salah Hamed Ghalyمحمد صلاح           RM, RW       91   \n",
      "52                      Kylian Mbappé Lottin       ST, LW, LM       91   \n",
      "459  Vinicius José Paixão de Oliveira Junior       LW, ST, LM       89   \n",
      "\n",
      "     potential  ...   cdm   rdm   rwb    lb   lcb    cb   rcb    rb    gk  \\\n",
      "0           94  ...  85+3  85+3  83+3  82+3  81+3  81+3  81+3  82+3  18+3   \n",
      "1           90  ...  87+3  87+3  86+3  86+3  83+3  83+3  83+3  86+3  18+3   \n",
      "21          91  ...  69+3  69+3  72+3  68+3  59+3  59+3  59+3  68+3  22+3   \n",
      "52          94  ...  63+3  63+3  67+3  63+3  55+3  55+3  55+3  63+3  18+3   \n",
      "459         92  ...  59+3  59+3  63+3  57+3  46+3  46+3  46+3  57+3  16+3   \n",
      "\n",
      "                                       player_face_url  \n",
      "0    https://cdn.sofifa.net/players/252/371/26_120.png  \n",
      "1    https://cdn.sofifa.net/players/239/053/26_120.png  \n",
      "21   https://cdn.sofifa.net/players/209/331/26_120.png  \n",
      "52   https://cdn.sofifa.net/players/231/747/26_120.png  \n",
      "459  https://cdn.sofifa.net/players/238/794/26_120.png  \n",
      "\n",
      "[5 rows x 110 columns]\n"
     ]
    }
   ],
   "source": [
    "#df.query('Length > 6000')\n",
    "outliers = df.query('wage_eur > 300000')\n",
    "print(outliers)"
   ]
  },
  {
   "cell_type": "markdown",
   "id": "807d485c-3ed1-4e09-abb2-42e1cb04dc73",
   "metadata": {},
   "source": [
    "**Certains joueurs sont des outliers**\n",
    "0       252371             /player/252371/jude-bellingham/260004/   \n",
    "1       239053           /player/239053/federico-valverde/260004/   \n",
    "21      209331               /player/209331/mohamed-salah/260004/   \n",
    "52      231747               /player/231747/kylian-mbappe/260004/   \n",
    "459     238794  /player/238794/vinicius-jose-de-oliveira-junio... "
   ]
  },
  {
   "cell_type": "code",
   "execution_count": 90,
   "id": "f5d5ca15-a35a-438b-a509-0a52cf978100",
   "metadata": {
    "execution": {
     "iopub.execute_input": "2025-10-27T15:55:24.967977Z",
     "iopub.status.busy": "2025-10-27T15:55:24.967490Z",
     "iopub.status.idle": "2025-10-27T15:55:25.176143Z",
     "shell.execute_reply": "2025-10-27T15:55:25.175127Z",
     "shell.execute_reply.started": "2025-10-27T15:55:24.967957Z"
    }
   },
   "outputs": [],
   "source": [
    "# Copier le DataFrame\n",
    "df_without_outliers = df.copy()  # x doit être un DataFrame"
   ]
  },
  {
   "cell_type": "code",
   "execution_count": 94,
   "id": "27d4b9f5-e953-4fd5-8199-54598e890512",
   "metadata": {
    "execution": {
     "iopub.execute_input": "2025-10-27T15:56:20.399686Z",
     "iopub.status.busy": "2025-10-27T15:56:20.398187Z",
     "iopub.status.idle": "2025-10-27T15:56:20.462077Z",
     "shell.execute_reply": "2025-10-27T15:56:20.458843Z",
     "shell.execute_reply.started": "2025-10-27T15:56:20.399603Z"
    }
   },
   "outputs": [
    {
     "data": {
      "text/html": [
       "<div>\n",
       "<style scoped>\n",
       "    .dataframe tbody tr th:only-of-type {\n",
       "        vertical-align: middle;\n",
       "    }\n",
       "\n",
       "    .dataframe tbody tr th {\n",
       "        vertical-align: top;\n",
       "    }\n",
       "\n",
       "    .dataframe thead th {\n",
       "        text-align: right;\n",
       "    }\n",
       "</style>\n",
       "<table border=\"1\" class=\"dataframe\">\n",
       "  <thead>\n",
       "    <tr style=\"text-align: right;\">\n",
       "      <th></th>\n",
       "      <th>player_id</th>\n",
       "      <th>player_url</th>\n",
       "      <th>fifa_version</th>\n",
       "      <th>fifa_update</th>\n",
       "      <th>fifa_update_date</th>\n",
       "      <th>short_name</th>\n",
       "      <th>long_name</th>\n",
       "      <th>player_positions</th>\n",
       "      <th>overall</th>\n",
       "      <th>potential</th>\n",
       "      <th>...</th>\n",
       "      <th>cdm</th>\n",
       "      <th>rdm</th>\n",
       "      <th>rwb</th>\n",
       "      <th>lb</th>\n",
       "      <th>lcb</th>\n",
       "      <th>cb</th>\n",
       "      <th>rcb</th>\n",
       "      <th>rb</th>\n",
       "      <th>gk</th>\n",
       "      <th>player_face_url</th>\n",
       "    </tr>\n",
       "  </thead>\n",
       "  <tbody>\n",
       "    <tr>\n",
       "      <th>0</th>\n",
       "      <td>226268</td>\n",
       "      <td>/player/226268/federico-dimarco/260004/</td>\n",
       "      <td>26</td>\n",
       "      <td>4</td>\n",
       "      <td>2025-09-19</td>\n",
       "      <td>F. Dimarco</td>\n",
       "      <td>Federico Dimarco</td>\n",
       "      <td>LB, LM</td>\n",
       "      <td>85</td>\n",
       "      <td>85</td>\n",
       "      <td>...</td>\n",
       "      <td>82+3</td>\n",
       "      <td>82+3</td>\n",
       "      <td>82+3</td>\n",
       "      <td>82+3</td>\n",
       "      <td>79+3</td>\n",
       "      <td>79+3</td>\n",
       "      <td>79+3</td>\n",
       "      <td>82+3</td>\n",
       "      <td>16+3</td>\n",
       "      <td>https://cdn.sofifa.net/players/226/268/26_120.png</td>\n",
       "    </tr>\n",
       "    <tr>\n",
       "      <th>1</th>\n",
       "      <td>239837</td>\n",
       "      <td>/player/239837/alexis-mac-allister/260004/</td>\n",
       "      <td>26</td>\n",
       "      <td>4</td>\n",
       "      <td>2025-09-19</td>\n",
       "      <td>A. Mac Allister</td>\n",
       "      <td>Alexis Mac Allister</td>\n",
       "      <td>CM, CDM</td>\n",
       "      <td>87</td>\n",
       "      <td>88</td>\n",
       "      <td>...</td>\n",
       "      <td>83+3</td>\n",
       "      <td>83+3</td>\n",
       "      <td>81+3</td>\n",
       "      <td>79+3</td>\n",
       "      <td>78+3</td>\n",
       "      <td>78+3</td>\n",
       "      <td>78+3</td>\n",
       "      <td>79+3</td>\n",
       "      <td>19+3</td>\n",
       "      <td>https://cdn.sofifa.net/players/239/837/26_120.png</td>\n",
       "    </tr>\n",
       "    <tr>\n",
       "      <th>2</th>\n",
       "      <td>231866</td>\n",
       "      <td>/player/231866/rodrigo-hernandez-cascante/260004/</td>\n",
       "      <td>26</td>\n",
       "      <td>4</td>\n",
       "      <td>2025-09-19</td>\n",
       "      <td>Rodri</td>\n",
       "      <td>Rodrigo Hernández Cascante</td>\n",
       "      <td>CDM, CM</td>\n",
       "      <td>90</td>\n",
       "      <td>90</td>\n",
       "      <td>...</td>\n",
       "      <td>88+2</td>\n",
       "      <td>88+2</td>\n",
       "      <td>84+3</td>\n",
       "      <td>84+3</td>\n",
       "      <td>85+3</td>\n",
       "      <td>85+3</td>\n",
       "      <td>85+3</td>\n",
       "      <td>84+3</td>\n",
       "      <td>19+3</td>\n",
       "      <td>https://cdn.sofifa.net/players/231/866/26_120.png</td>\n",
       "    </tr>\n",
       "    <tr>\n",
       "      <th>3</th>\n",
       "      <td>194765</td>\n",
       "      <td>/player/194765/antoine-griezmann/260004/</td>\n",
       "      <td>26</td>\n",
       "      <td>4</td>\n",
       "      <td>2025-09-19</td>\n",
       "      <td>A. Griezmann</td>\n",
       "      <td>Antoine Griezmann</td>\n",
       "      <td>ST, LM, CAM</td>\n",
       "      <td>85</td>\n",
       "      <td>85</td>\n",
       "      <td>...</td>\n",
       "      <td>73+3</td>\n",
       "      <td>73+3</td>\n",
       "      <td>74+3</td>\n",
       "      <td>72+3</td>\n",
       "      <td>67+3</td>\n",
       "      <td>67+3</td>\n",
       "      <td>67+3</td>\n",
       "      <td>72+3</td>\n",
       "      <td>21+3</td>\n",
       "      <td>https://cdn.sofifa.net/players/194/765/26_120.png</td>\n",
       "    </tr>\n",
       "    <tr>\n",
       "      <th>4</th>\n",
       "      <td>232656</td>\n",
       "      <td>/player/232656/theo-hernandez/260004/</td>\n",
       "      <td>26</td>\n",
       "      <td>4</td>\n",
       "      <td>2025-09-19</td>\n",
       "      <td>T. Hernández</td>\n",
       "      <td>Theo Bernard François Hernández</td>\n",
       "      <td>LB, LM</td>\n",
       "      <td>84</td>\n",
       "      <td>85</td>\n",
       "      <td>...</td>\n",
       "      <td>80+3</td>\n",
       "      <td>80+3</td>\n",
       "      <td>82+3</td>\n",
       "      <td>82+3</td>\n",
       "      <td>80+3</td>\n",
       "      <td>80+3</td>\n",
       "      <td>80+3</td>\n",
       "      <td>82+3</td>\n",
       "      <td>17+3</td>\n",
       "      <td>https://cdn.sofifa.net/players/232/656/26_120.png</td>\n",
       "    </tr>\n",
       "  </tbody>\n",
       "</table>\n",
       "<p>5 rows × 110 columns</p>\n",
       "</div>"
      ],
      "text/plain": [
       "   player_id                                         player_url  fifa_version  \\\n",
       "0     226268            /player/226268/federico-dimarco/260004/            26   \n",
       "1     239837         /player/239837/alexis-mac-allister/260004/            26   \n",
       "2     231866  /player/231866/rodrigo-hernandez-cascante/260004/            26   \n",
       "3     194765           /player/194765/antoine-griezmann/260004/            26   \n",
       "4     232656              /player/232656/theo-hernandez/260004/            26   \n",
       "\n",
       "   fifa_update fifa_update_date       short_name  \\\n",
       "0            4       2025-09-19       F. Dimarco   \n",
       "1            4       2025-09-19  A. Mac Allister   \n",
       "2            4       2025-09-19            Rodri   \n",
       "3            4       2025-09-19     A. Griezmann   \n",
       "4            4       2025-09-19     T. Hernández   \n",
       "\n",
       "                         long_name player_positions  overall  potential  ...  \\\n",
       "0                 Federico Dimarco           LB, LM       85         85  ...   \n",
       "1              Alexis Mac Allister          CM, CDM       87         88  ...   \n",
       "2       Rodrigo Hernández Cascante          CDM, CM       90         90  ...   \n",
       "3                Antoine Griezmann      ST, LM, CAM       85         85  ...   \n",
       "4  Theo Bernard François Hernández           LB, LM       84         85  ...   \n",
       "\n",
       "    cdm   rdm   rwb    lb   lcb    cb   rcb    rb    gk  \\\n",
       "0  82+3  82+3  82+3  82+3  79+3  79+3  79+3  82+3  16+3   \n",
       "1  83+3  83+3  81+3  79+3  78+3  78+3  78+3  79+3  19+3   \n",
       "2  88+2  88+2  84+3  84+3  85+3  85+3  85+3  84+3  19+3   \n",
       "3  73+3  73+3  74+3  72+3  67+3  67+3  67+3  72+3  21+3   \n",
       "4  80+3  80+3  82+3  82+3  80+3  80+3  80+3  82+3  17+3   \n",
       "\n",
       "                                     player_face_url  \n",
       "0  https://cdn.sofifa.net/players/226/268/26_120.png  \n",
       "1  https://cdn.sofifa.net/players/239/837/26_120.png  \n",
       "2  https://cdn.sofifa.net/players/231/866/26_120.png  \n",
       "3  https://cdn.sofifa.net/players/194/765/26_120.png  \n",
       "4  https://cdn.sofifa.net/players/232/656/26_120.png  \n",
       "\n",
       "[5 rows x 110 columns]"
      ]
     },
     "execution_count": 94,
     "metadata": {},
     "output_type": "execute_result"
    }
   ],
   "source": [
    "# Supprimer les lignes par index\n",
    "indices_a_supprimer = [0, 1, 21, 52, 459]\n",
    "df_without_outliers = df_without_outliers.drop(indices_a_supprimer)\n",
    "\n",
    "# Réinitialiser les index pour que ça reste propre\n",
    "df_without_outliers = df_without_outliers.reset_index(drop=True)\n",
    "\n",
    "# Vérifier le résultat\n",
    "df_without_outliers.head()"
   ]
  },
  {
   "cell_type": "code",
   "execution_count": 96,
   "id": "68b63903-d81b-4af6-9890-a04a3dfeb0be",
   "metadata": {
    "execution": {
     "iopub.execute_input": "2025-10-27T15:56:43.820782Z",
     "iopub.status.busy": "2025-10-27T15:56:43.820372Z",
     "iopub.status.idle": "2025-10-27T15:56:44.874037Z",
     "shell.execute_reply": "2025-10-27T15:56:44.873039Z",
     "shell.execute_reply.started": "2025-10-27T15:56:43.820752Z"
    }
   },
   "outputs": [
    {
     "data": {
      "image/png": "[encoded data removed]",
      "text/plain": [
       "<Figure size 640x480 with 1 Axes>"
      ]
     },
     "metadata": {},
     "output_type": "display_data"
    }
   ],
   "source": [
    "import seaborn as sns\n",
    "data_analysis=sns.regplot(data=df_without_outliers,x=x,y=y,line_kws={'color':'r'})"
   ]
  },
  {
   "cell_type": "code",
   "execution_count": null,
   "id": "3e64d229-eee4-4e0e-9e25-280345031c2a",
   "metadata": {},
   "outputs": [],
   "source": []
  }
 ],
 "metadata": {
  "kernelspec": {
   "display_name": "Python 3 (ipykernel)",
   "language": "python",
   "name": "python3"
  },
  "language_info": {
   "codemirror_mode": {
    "name": "ipython",
    "version": 3
   },
   "file_extension": ".py",
   "mimetype": "text/x-python",
   "name": "python",
   "nbconvert_exporter": "python",
   "pygments_lexer": "ipython3",
   "version": "3.10.6"
  }
 },
 "nbformat": 4,
 "nbformat_minor": 5
}
