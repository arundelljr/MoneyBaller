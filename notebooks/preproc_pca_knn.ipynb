{
 "cells": [
  {
   "cell_type": "markdown",
   "id": "adcd06be",
   "metadata": {},
   "source": [
    "# Load imports and dataset"
   ]
  },
  {
   "cell_type": "code",
   "execution_count": 256,
   "id": "b6873716",
   "metadata": {},
   "outputs": [],
   "source": [
    "# imports\n",
    "import pandas as pd\n",
    "import numpy as np\n",
    "import matplotlib.pyplot as plt\n",
    "import warnings\n",
    "\n",
    "# preprocessing imports\n",
    "from sklearn.preprocessing import MinMaxScaler, OneHotEncoder\n",
    "\n",
    "# dimension reduction imports\n",
    "from sklearn.decomposition import PCA\n",
    "\n",
    "# clustering/similarity imports\n",
    "from sklearn.neighbors import NearestNeighbors\n",
    "\n",
    "# Ignore all warnings\n",
    "warnings.filterwarnings(\"ignore\")\n",
    "\n",
    "# Display all columns\n",
    "pd.set_option('display.max_columns', None)"
   ]
  },
  {
   "cell_type": "code",
   "execution_count": 257,
   "id": "b98758db",
   "metadata": {},
   "outputs": [],
   "source": [
    "# load in EA Sports 26 csv\n",
    "df = pd.read_csv(\"../raw_data/FC26_20250921.csv\", low_memory=False)"
   ]
  },
  {
   "cell_type": "markdown",
   "id": "7ffdef69",
   "metadata": {},
   "source": [
    "# Preprocessing\n",
    "\n",
    "#### Drop columns, Scale and Encode features, Impute NaNs"
   ]
  },
  {
   "cell_type": "markdown",
   "id": "9fc5d8c4",
   "metadata": {},
   "source": [
    "## Dropping columns"
   ]
  },
  {
   "cell_type": "code",
   "execution_count": 258,
   "id": "b17eb6f6",
   "metadata": {},
   "outputs": [],
   "source": [
    "# In-game 'boost' columns not relevant\n",
    "drop_cols = df.columns[-28:-1]\n",
    "df = df.drop(columns=drop_cols)\n",
    "\n",
    "# Work rate column is empty. Drop work rate column\n",
    "df = df.drop(columns=['work_rate'])"
   ]
  },
  {
   "cell_type": "code",
   "execution_count": 259,
   "id": "2e16c80a",
   "metadata": {},
   "outputs": [],
   "source": [
    "# Numerical and Categorical features\n",
    "features_columns = [\n",
    "    'player_id', 'player_positions',\n",
    "\n",
    "    'overall', 'potential',\n",
    "\n",
    "    'height_cm', 'weight_kg',\n",
    "\n",
    "    'preferred_foot', 'weak_foot', 'skill_moves', 'international_reputation',\n",
    "\n",
    "    'pace', 'shooting', 'passing', 'dribbling', 'defending', 'physic',\n",
    "\n",
    "    'attacking_crossing', 'attacking_finishing',\n",
    "    'attacking_heading_accuracy', 'attacking_short_passing',\n",
    "    'attacking_volleys', 'skill_dribbling', 'skill_curve',\n",
    "    'skill_fk_accuracy', 'skill_long_passing', 'skill_ball_control',\n",
    "    'movement_acceleration', 'movement_sprint_speed', 'movement_agility',\n",
    "    'movement_reactions', 'movement_balance', 'power_shot_power',\n",
    "    'power_jumping', 'power_stamina', 'power_strength', 'power_long_shots',\n",
    "    'mentality_aggression', 'mentality_interceptions',\n",
    "    'mentality_positioning', 'mentality_vision', 'mentality_penalties',\n",
    "    'mentality_composure', 'defending_marking_awareness',\n",
    "    'defending_standing_tackle', 'defending_sliding_tackle',\n",
    "    'goalkeeping_diving', 'goalkeeping_handling', 'goalkeeping_kicking',\n",
    "    'goalkeeping_positioning', 'goalkeeping_reflexes', 'goalkeeping_speed'\n",
    "    ]"
   ]
  },
  {
   "cell_type": "code",
   "execution_count": 260,
   "id": "db405532",
   "metadata": {},
   "outputs": [],
   "source": [
    "# Additional profiling features used for filtering down the line\n",
    "# info_columns = ['player_id', 'player_url', 'short_name', 'long_name',\n",
    "#        'value_eur', 'wage_eur', 'age', 'dob', 'league_id', 'league_name',\n",
    "#        'league_level', 'club_team_id', 'club_name', 'club_position',\n",
    "#        'club_jersey_number', 'club_loaned_from', 'club_joined_date',\n",
    "#        'club_contract_valid_until_year', 'nationality_id', 'nationality_name',\n",
    "#        'nation_team_id', 'nation_position', 'nation_jersey_number',\n",
    "#        'body_type', 'real_face',\n",
    "#        'release_clause_eur', 'player_tags', 'player_traits',\n",
    "#        'player_face_url']"
   ]
  },
  {
   "cell_type": "code",
   "execution_count": 261,
   "id": "cb9ce158",
   "metadata": {},
   "outputs": [],
   "source": [
    "# Create features and info dataframes\n",
    "player_features_df = df[features_columns]\n",
    "# player_info_df =  df[info_columns]"
   ]
  },
  {
   "cell_type": "markdown",
   "id": "a6e8c142",
   "metadata": {},
   "source": [
    "## Creating Primary Positions column"
   ]
  },
  {
   "cell_type": "code",
   "execution_count": 262,
   "id": "ba8b1a8e",
   "metadata": {},
   "outputs": [],
   "source": [
    "# Take the first given position as a player's primary position (new column)\n",
    "player_features_df['primary_position'] = player_features_df['player_positions'].str.split(',').str[0]"
   ]
  },
  {
   "cell_type": "markdown",
   "id": "89e6191d",
   "metadata": {},
   "source": [
    "## Scaling and encoding features"
   ]
  },
  {
   "cell_type": "code",
   "execution_count": 263,
   "id": "19f62d72",
   "metadata": {},
   "outputs": [],
   "source": [
    "# numerical features\n",
    "numeric_columns = ['overall', 'potential', 'height_cm', 'weight_kg', 'weak_foot', 'skill_moves',\n",
    "                'international_reputation', 'pace', 'shooting', 'passing', 'dribbling', 'defending',\n",
    "                'physic', 'attacking_crossing', 'attacking_finishing','attacking_heading_accuracy',\n",
    "                'attacking_short_passing', 'attacking_volleys', 'skill_dribbling', 'skill_curve',\n",
    "                'skill_fk_accuracy', 'skill_long_passing', 'skill_ball_control',\n",
    "                'movement_acceleration', 'movement_sprint_speed', 'movement_agility',\n",
    "                'movement_reactions', 'movement_balance', 'power_shot_power',\n",
    "                'power_jumping', 'power_stamina', 'power_strength', 'power_long_shots',\n",
    "                'mentality_aggression', 'mentality_interceptions',\n",
    "                'mentality_positioning', 'mentality_vision', 'mentality_penalties',\n",
    "                'mentality_composure', 'defending_marking_awareness',\n",
    "                'defending_standing_tackle', 'defending_sliding_tackle',\n",
    "                'goalkeeping_diving', 'goalkeeping_handling', 'goalkeeping_kicking',\n",
    "                'goalkeeping_positioning', 'goalkeeping_reflexes', 'goalkeeping_speed']\n",
    "\n",
    "# categorical features\n",
    "categorical_columns = ['preferred_foot', 'player_positions', 'primary_position']"
   ]
  },
  {
   "cell_type": "code",
   "execution_count": 264,
   "id": "4a2c8ca0",
   "metadata": {},
   "outputs": [],
   "source": [
    "# MinMax scale numerical features\n",
    "mm_scaler = MinMaxScaler()\n",
    "player_features_df[numeric_columns] = mm_scaler.fit_transform(player_features_df[numeric_columns])"
   ]
  },
  {
   "cell_type": "code",
   "execution_count": 265,
   "id": "97b3fe9e",
   "metadata": {},
   "outputs": [],
   "source": [
    "# One Hot Encode categorical features\n",
    "# OHE player primary positions\n",
    "ohe = OneHotEncoder(sparse_output=False)\n",
    "ohe.fit(player_features_df[['primary_position']])\n",
    "player_features_df[ohe.get_feature_names_out()] = ohe.transform(player_features_df[['primary_position']])\n",
    "\n",
    "# OHE player preffered foot\n",
    "ohe = OneHotEncoder(sparse_output=False)\n",
    "ohe.fit(player_features_df[['preferred_foot']])\n",
    "player_features_df[ohe.get_feature_names_out()] = ohe.transform(player_features_df[['preferred_foot']])\n",
    "\n",
    "# Drop the original categorical columns\n",
    "player_features_df = player_features_df.drop(columns=categorical_columns)\n"
   ]
  },
  {
   "cell_type": "markdown",
   "id": "0366a49a",
   "metadata": {},
   "source": [
    "## Imputing NaNs"
   ]
  },
  {
   "cell_type": "code",
   "execution_count": 266,
   "id": "fdad1327",
   "metadata": {},
   "outputs": [],
   "source": [
    "# Fill in NaNs\n",
    "\n",
    "# 0 for goalkeeping speed for all outfield players\n",
    "player_features_df['goalkeeping_speed'] = player_features_df['goalkeeping_speed'].fillna(0)\n",
    "\n",
    "# 0 for grouped outfield attribute scores for goalkeepers\n",
    "columns_to_fill = ['pace', 'physic', 'defending', 'passing', 'shooting', 'dribbling']\n",
    "player_features_df[columns_to_fill] = player_features_df[columns_to_fill].fillna(0)"
   ]
  },
  {
   "cell_type": "markdown",
   "id": "27bf377c",
   "metadata": {},
   "source": [
    "## Assigning final features table"
   ]
  },
  {
   "cell_type": "code",
   "execution_count": 267,
   "id": "895e8d8f",
   "metadata": {},
   "outputs": [],
   "source": [
    "# Assign features df to X\n",
    "X = player_features_df.copy()\n",
    "# X.set_index('player_id', inplace=True) # with player ID as the index\n",
    "X = X.drop(columns=['player_id']) # remove player ID"
   ]
  },
  {
   "cell_type": "markdown",
   "id": "85ffb539",
   "metadata": {},
   "source": [
    "# Principal Component Analysis\n",
    "\n",
    "### Creating components of statistically significant linear combinations of our features and reducing our dimensions.\n",
    "\n",
    "Questions: Which features should we include? How many components should we choose?\n",
    "\n",
    "\n",
    "Notes: Required 'explained variance' from Principal Components can be changed"
   ]
  },
  {
   "cell_type": "markdown",
   "id": "67bd9213",
   "metadata": {},
   "source": [
    "#### PCA on all features"
   ]
  },
  {
   "cell_type": "code",
   "execution_count": 268,
   "id": "0672320c",
   "metadata": {},
   "outputs": [
    {
     "name": "stdout",
     "output_type": "stream",
     "text": [
      "Optimal components for 95% variance: 19\n"
     ]
    }
   ],
   "source": [
    "# PCA of all features\n",
    "X_all = X.copy()\n",
    "\n",
    "# X is your preprocessed dataframe\n",
    "pca = PCA()\n",
    "X_pca = pca.fit_transform(X_all)\n",
    "\n",
    "# Cumulative explained variance\n",
    "explained_variance = np.cumsum(pca.explained_variance_ratio_) # Example: choose components to capture 90% of variance\n",
    "n_components_optimal = np.argmax(explained_variance >= 0.95) + 1\n",
    "print(f\"Optimal components for 95% variance: {n_components_optimal}\")\n"
   ]
  },
  {
   "cell_type": "code",
   "execution_count": 269,
   "id": "68e65796",
   "metadata": {},
   "outputs": [],
   "source": [
    "pca_all = PCA(n_components=n_components_optimal)\n",
    "pca_all.fit(X_all)\n",
    "\n",
    "# Remapping players with PCAs\n",
    "X_all_proj = pca_all.transform(X_all)\n",
    "X_all_proj = pd.DataFrame(X_all_proj, index=X_all.index)"
   ]
  },
  {
   "cell_type": "markdown",
   "id": "93fd8829",
   "metadata": {},
   "source": [
    "#### PCA on only detailed skill attributes"
   ]
  },
  {
   "cell_type": "code",
   "execution_count": 270,
   "id": "2022d826",
   "metadata": {},
   "outputs": [],
   "source": [
    "# Detailed skill attributes only (doesnt include postitioning, footedness, height etc, aggregated stats)\n",
    "skill_attributes_columns = ['attacking_crossing', 'attacking_finishing',\n",
    "       'attacking_heading_accuracy', 'attacking_short_passing',\n",
    "       'attacking_volleys', 'skill_dribbling', 'skill_curve',\n",
    "       'skill_fk_accuracy', 'skill_long_passing', 'skill_ball_control',\n",
    "       'movement_acceleration', 'movement_sprint_speed', 'movement_agility',\n",
    "       'movement_reactions', 'movement_balance', 'power_shot_power',\n",
    "       'power_jumping', 'power_stamina', 'power_strength', 'power_long_shots',\n",
    "       'mentality_aggression', 'mentality_interceptions',\n",
    "       'mentality_positioning', 'mentality_vision', 'mentality_penalties',\n",
    "       'mentality_composure', 'defending_marking_awareness',\n",
    "       'defending_standing_tackle', 'defending_sliding_tackle',\n",
    "       'goalkeeping_diving', 'goalkeeping_handling', 'goalkeeping_kicking',\n",
    "       'goalkeeping_positioning', 'goalkeeping_reflexes', 'goalkeeping_speed']"
   ]
  },
  {
   "cell_type": "code",
   "execution_count": 271,
   "id": "ed9d0366",
   "metadata": {},
   "outputs": [
    {
     "name": "stdout",
     "output_type": "stream",
     "text": [
      "Optimal components for 95% variance: 12\n"
     ]
    }
   ],
   "source": [
    "X_attributes = X[skill_attributes_columns].copy()\n",
    "\n",
    "# X is your preprocessed dataframe\n",
    "pca = PCA()\n",
    "X_pca = pca.fit_transform(X_attributes)\n",
    "\n",
    "# Cumulative explained variance\n",
    "explained_variance = np.cumsum(pca.explained_variance_ratio_) # Example: choose components to capture 90% of variance\n",
    "n_components_optimal = np.argmax(explained_variance >= 0.95) + 1\n",
    "print(f\"Optimal components for 95% variance: {n_components_optimal}\")"
   ]
  },
  {
   "cell_type": "code",
   "execution_count": 272,
   "id": "17e6fc0e",
   "metadata": {},
   "outputs": [],
   "source": [
    "# PCA on detailed attritbues only\n",
    "pca_attributes = PCA(n_components=n_components_optimal)\n",
    "pca_attributes.fit(X_attributes)\n",
    "\n",
    "X_attributes_proj = pca_attributes.transform(X_attributes)\n",
    "X_attributes_proj = pd.DataFrame(X_attributes_proj, index=X_attributes.index)"
   ]
  },
  {
   "cell_type": "markdown",
   "id": "674f5f0c",
   "metadata": {},
   "source": [
    "#### PCA on detailed skill attributes and physical features"
   ]
  },
  {
   "cell_type": "code",
   "execution_count": 273,
   "id": "692ee222",
   "metadata": {},
   "outputs": [],
   "source": [
    "# Features without position information and aggergated attributes\n",
    "attributes_and_physical_features = ['height_cm', 'weight_kg', 'weak_foot',\n",
    "       'skill_moves', 'attacking_crossing',\n",
    "       'attacking_finishing', 'attacking_heading_accuracy',\n",
    "       'attacking_short_passing', 'attacking_volleys', 'skill_dribbling',\n",
    "       'skill_curve', 'skill_fk_accuracy', 'skill_long_passing',\n",
    "       'skill_ball_control', 'movement_acceleration', 'movement_sprint_speed',\n",
    "       'movement_agility', 'movement_reactions', 'movement_balance',\n",
    "       'power_shot_power', 'power_jumping', 'power_stamina', 'power_strength',\n",
    "       'power_long_shots', 'mentality_aggression', 'mentality_interceptions',\n",
    "       'mentality_positioning', 'mentality_vision', 'mentality_penalties',\n",
    "       'mentality_composure', 'defending_marking_awareness',\n",
    "       'defending_standing_tackle', 'defending_sliding_tackle',\n",
    "       'goalkeeping_diving', 'goalkeeping_handling', 'goalkeeping_kicking',\n",
    "       'goalkeeping_positioning', 'goalkeeping_reflexes', 'goalkeeping_speed',\n",
    "       'preferred_foot_Left', 'preferred_foot_Right']"
   ]
  },
  {
   "cell_type": "code",
   "execution_count": 274,
   "id": "c8b75e42",
   "metadata": {},
   "outputs": [
    {
     "name": "stdout",
     "output_type": "stream",
     "text": [
      "Optimal components for 95% variance: 13\n"
     ]
    }
   ],
   "source": [
    "# PCA on features without position information and aggergated attributes\n",
    "X_physical_and_attributes = X[attributes_and_physical_features].copy()\n",
    "\n",
    "# X is your preprocessed dataframe\n",
    "pca = PCA()\n",
    "X_pca = pca.fit_transform(X_physical_and_attributes)\n",
    "\n",
    "# Cumulative explained variance\n",
    "explained_variance = np.cumsum(pca.explained_variance_ratio_) # Example: choose components to capture 90% of variance\n",
    "n_components_optimal = np.argmax(explained_variance >= 0.95) + 1\n",
    "print(f\"Optimal components for 95% variance: {n_components_optimal}\")\n"
   ]
  },
  {
   "cell_type": "code",
   "execution_count": 275,
   "id": "063e62a3",
   "metadata": {},
   "outputs": [],
   "source": [
    "pca_physical_and_attributes = PCA(n_components=n_components_optimal)\n",
    "pca_physical_and_attributes.fit(X_physical_and_attributes)\n",
    "\n",
    "X_physical_and_attributes_proj = pca_physical_and_attributes.transform(X_physical_and_attributes)\n",
    "X_physical_and_attributes_proj = pd.DataFrame(X_physical_and_attributes_proj, index=X_physical_and_attributes.index)"
   ]
  },
  {
   "cell_type": "markdown",
   "id": "fe930d46",
   "metadata": {},
   "source": [
    "# Similarity scoring with K-Nearest Neighbours\n",
    "\n",
    "### Check similar alternatives output after dimensionality reduction.\n",
    "\n",
    "Questions: How does different feature selection affect similarity suggestions?\n",
    "\n",
    "Notes: Number of neighbours can be changed"
   ]
  },
  {
   "cell_type": "markdown",
   "id": "7da5efb2",
   "metadata": {},
   "source": [
    "#### Player ID search\n"
   ]
  },
  {
   "cell_type": "code",
   "execution_count": 276,
   "id": "768824fa",
   "metadata": {},
   "outputs": [],
   "source": [
    "# Use this function to find your desired player's unique player ID using their name\n",
    "# Does not have to be an exact match!\n",
    "# Sensitive to accents\n",
    "def get_player_id(name):\n",
    "    player_names_ids = df[['long_name', 'short_name', 'nationality_name', 'club_name', 'player_positions', 'player_id']]\n",
    "    return player_names_ids[player_names_ids['long_name'].str.contains(name, case=False) |\n",
    "                            player_names_ids['short_name'].str.contains(name, case=False)]"
   ]
  },
  {
   "cell_type": "code",
   "execution_count": 277,
   "id": "cd8f23a3",
   "metadata": {},
   "outputs": [
    {
     "data": {
      "text/html": [
       "<div>\n",
       "<style scoped>\n",
       "    .dataframe tbody tr th:only-of-type {\n",
       "        vertical-align: middle;\n",
       "    }\n",
       "\n",
       "    .dataframe tbody tr th {\n",
       "        vertical-align: top;\n",
       "    }\n",
       "\n",
       "    .dataframe thead th {\n",
       "        text-align: right;\n",
       "    }\n",
       "</style>\n",
       "<table border=\"1\" class=\"dataframe\">\n",
       "  <thead>\n",
       "    <tr style=\"text-align: right;\">\n",
       "      <th></th>\n",
       "      <th>long_name</th>\n",
       "      <th>short_name</th>\n",
       "      <th>nationality_name</th>\n",
       "      <th>club_name</th>\n",
       "      <th>player_positions</th>\n",
       "      <th>player_id</th>\n",
       "    </tr>\n",
       "  </thead>\n",
       "  <tbody>\n",
       "    <tr>\n",
       "      <th>8556</th>\n",
       "      <td>Moussa Diarra</td>\n",
       "      <td>M. Diarra</td>\n",
       "      <td>Mali</td>\n",
       "      <td>Deportivo Alavés</td>\n",
       "      <td>CB, LB</td>\n",
       "      <td>250725</td>\n",
       "    </tr>\n",
       "    <tr>\n",
       "      <th>12454</th>\n",
       "      <td>Moussa Diarra</td>\n",
       "      <td>M. Diarra</td>\n",
       "      <td>Mali</td>\n",
       "      <td>Málaga CF</td>\n",
       "      <td>CB</td>\n",
       "      <td>263677</td>\n",
       "    </tr>\n",
       "  </tbody>\n",
       "</table>\n",
       "</div>"
      ],
      "text/plain": [
       "           long_name short_name nationality_name         club_name  \\\n",
       "8556   Moussa Diarra  M. Diarra             Mali  Deportivo Alavés   \n",
       "12454  Moussa Diarra  M. Diarra             Mali         Málaga CF   \n",
       "\n",
       "      player_positions  player_id  \n",
       "8556            CB, LB     250725  \n",
       "12454               CB     263677  "
      ]
     },
     "execution_count": 277,
     "metadata": {},
     "output_type": "execute_result"
    }
   ],
   "source": [
    "# Example demonstrating need of extra columns!\n",
    "get_player_id('Moussa Diarra')"
   ]
  },
  {
   "cell_type": "markdown",
   "id": "6f7a5851",
   "metadata": {},
   "source": [
    "#### Similarity matching when selecting all features\n"
   ]
  },
  {
   "cell_type": "code",
   "execution_count": 278,
   "id": "8de1aa2f",
   "metadata": {},
   "outputs": [],
   "source": [
    "# Test using all features\n",
    "from sklearn.neighbors import NearestNeighbors\n",
    "knn_all = NearestNeighbors(\n",
    "    n_neighbors=6,        # 1 self + 5 similar players\n",
    "    metric='cosine'       # best for similarity in high dimensions\n",
    ")\n",
    "knn_all.fit(X_all_proj)\n",
    "\n",
    "# Function only producing similar alternatives based on selected features\n",
    "def find_similar_players_all(player_id):\n",
    "    # Step 1: Find correct row index of the player\n",
    "    player_index = player_features_df.index[player_features_df['player_id'] == player_id][0]\n",
    "    # Step 2: Get nearest neighbors\n",
    "    distances, indices = knn_all.kneighbors([X_all_proj.iloc[player_index]])\n",
    "    # Step 3: Exclude the queried player (index 0)\n",
    "    similar_indices = indices[0][1:6]\n",
    "    similar_distances = distances[0][1:6]\n",
    "    # step 4: Convert distance to similarity score\n",
    "    similarity_scores = 1 - similar_distances\n",
    "    # Step 5: Return selected columns\n",
    "    results =  df.iloc[similar_indices][[\n",
    "        'player_id', 'long_name', 'short_name', 'player_positions', 'overall', 'pace', 'shooting', 'passing', 'dribbling', 'defending', 'physic', 'value_eur'\n",
    "    ]]\n",
    "    # step 6: Add the similarity score column (rounded for readability)\n",
    "    results['similarity'] = similarity_scores.round(4)\n",
    "    return results.reset_index(drop=True)\n"
   ]
  },
  {
   "cell_type": "markdown",
   "id": "0f5cc440",
   "metadata": {},
   "source": [
    "#### Similarity matching when selecting only detailed skill attributes"
   ]
  },
  {
   "cell_type": "code",
   "execution_count": 279,
   "id": "e7d2953c",
   "metadata": {},
   "outputs": [],
   "source": [
    "# Test using only skill attributes features\n",
    "from sklearn.neighbors import NearestNeighbors\n",
    "knn_skill = NearestNeighbors(\n",
    "    n_neighbors=6,        # 1 self + 5 similar players\n",
    "    metric='cosine'       # best for similarity in high dimensions\n",
    ")\n",
    "knn_skill.fit(X_attributes_proj)\n",
    "\n",
    "# Function only producing similar alternatives based on selected features\n",
    "def find_similar_players_skill(player_id):\n",
    "    # Step 1: Find correct row index of the player\n",
    "    player_index = player_features_df.index[player_features_df['player_id'] == player_id][0]\n",
    "    # Step 2: Get nearest neighbors\n",
    "    distances, indices = knn_skill.kneighbors([X_attributes_proj.iloc[player_index]])\n",
    "    # Step 3: Exclude the queried player (index 0)\n",
    "    similar_indices = indices[0][1:6]\n",
    "    similar_distances = distances[0][1:6]\n",
    "    # step 4: Convert distance to similarity score\n",
    "    similarity_scores = 1 - similar_distances\n",
    "    # Step 5: Return selected columns\n",
    "    results =  df.iloc[similar_indices][[\n",
    "        'short_name', 'player_positions', 'overall', 'pace', 'shooting', 'passing', 'dribbling', 'defending', 'physic', 'value_eur'\n",
    "    ]]\n",
    "    # step 6: Add the similarity score column (rounded for readability)\n",
    "    results['similarity'] = similarity_scores.round(4)\n",
    "    return results.reset_index(drop=True)\n"
   ]
  },
  {
   "cell_type": "markdown",
   "id": "1bcb546f",
   "metadata": {},
   "source": [
    "#### Similarity matching when selecting only detailed skill attributes and some physical features"
   ]
  },
  {
   "cell_type": "code",
   "execution_count": 280,
   "id": "692620ea",
   "metadata": {},
   "outputs": [],
   "source": [
    "# Test using only skill and physical attributes features\n",
    "from sklearn.neighbors import NearestNeighbors\n",
    "knn_phy_skill = NearestNeighbors(\n",
    "    n_neighbors=6,        # 1 self + 5 similar players\n",
    "    metric='cosine'       # best for similarity in high dimensions\n",
    ")\n",
    "knn_phy_skill.fit(X_physical_and_attributes_proj)\n",
    "\n",
    "# Function only producing similar alternatives based on selected features\n",
    "def find_similar_players_phy_skill(player_id):\n",
    "    # Step 1: Find correct row index of the player\n",
    "    player_index = player_features_df.index[player_features_df['player_id'] == player_id][0]\n",
    "    # Step 2: Get nearest neighbors\n",
    "    distances, indices = knn_phy_skill.kneighbors([X_physical_and_attributes_proj.iloc[player_index]])\n",
    "    # Step 3: Exclude the queried player (index 0)\n",
    "    similar_indices = indices[0][1:6]\n",
    "    similar_distances = distances[0][1:6]\n",
    "    # step 4: Convert distance to similarity score\n",
    "    similarity_scores = 1 - similar_distances\n",
    "    # Step 5: Return selected columns\n",
    "    results =  df.iloc[similar_indices][[\n",
    "        'short_name', 'player_positions', 'overall', 'pace', 'shooting', 'passing', 'dribbling', 'defending', 'physic', 'value_eur'\n",
    "    ]]\n",
    "    # step 6: Add the similarity score column (rounded for readability)\n",
    "    results['similarity'] = similarity_scores.round(4)\n",
    "    return results.reset_index(drop=True)"
   ]
  },
  {
   "cell_type": "markdown",
   "id": "bd8c434a",
   "metadata": {},
   "source": [
    "#### Put it all together!"
   ]
  },
  {
   "cell_type": "code",
   "execution_count": 287,
   "id": "1ae4f0cb",
   "metadata": {},
   "outputs": [
    {
     "data": {
      "text/html": [
       "<div>\n",
       "<style scoped>\n",
       "    .dataframe tbody tr th:only-of-type {\n",
       "        vertical-align: middle;\n",
       "    }\n",
       "\n",
       "    .dataframe tbody tr th {\n",
       "        vertical-align: top;\n",
       "    }\n",
       "\n",
       "    .dataframe thead th {\n",
       "        text-align: right;\n",
       "    }\n",
       "</style>\n",
       "<table border=\"1\" class=\"dataframe\">\n",
       "  <thead>\n",
       "    <tr style=\"text-align: right;\">\n",
       "      <th></th>\n",
       "      <th>long_name</th>\n",
       "      <th>short_name</th>\n",
       "      <th>nationality_name</th>\n",
       "      <th>club_name</th>\n",
       "      <th>player_positions</th>\n",
       "      <th>player_id</th>\n",
       "    </tr>\n",
       "  </thead>\n",
       "  <tbody>\n",
       "    <tr>\n",
       "      <th>240</th>\n",
       "      <td>Lionel Andrés Messi Cuccitini</td>\n",
       "      <td>L. Messi</td>\n",
       "      <td>Argentina</td>\n",
       "      <td>Inter Miami</td>\n",
       "      <td>RW, ST, CAM, RM</td>\n",
       "      <td>158023</td>\n",
       "    </tr>\n",
       "    <tr>\n",
       "      <th>1327</th>\n",
       "      <td>Junior Walter Messias</td>\n",
       "      <td>Junior Messias</td>\n",
       "      <td>Brazil</td>\n",
       "      <td>Genoa</td>\n",
       "      <td>CM, RM, CAM</td>\n",
       "      <td>240938</td>\n",
       "    </tr>\n",
       "    <tr>\n",
       "      <th>11175</th>\n",
       "      <td>Pablo Ruan Messias Cardozo</td>\n",
       "      <td>Pablo Ruan</td>\n",
       "      <td>Brazil</td>\n",
       "      <td>CD Nacional</td>\n",
       "      <td>ST, RW, RM</td>\n",
       "      <td>79479</td>\n",
       "    </tr>\n",
       "    <tr>\n",
       "      <th>12715</th>\n",
       "      <td>Rayane Messi Tanfouri</td>\n",
       "      <td>R. Messi</td>\n",
       "      <td>France</td>\n",
       "      <td>Pau FC</td>\n",
       "      <td>LM, LW</td>\n",
       "      <td>75421</td>\n",
       "    </tr>\n",
       "  </tbody>\n",
       "</table>\n",
       "</div>"
      ],
      "text/plain": [
       "                           long_name      short_name nationality_name  \\\n",
       "240    Lionel Andrés Messi Cuccitini        L. Messi        Argentina   \n",
       "1327           Junior Walter Messias  Junior Messias           Brazil   \n",
       "11175     Pablo Ruan Messias Cardozo      Pablo Ruan           Brazil   \n",
       "12715          Rayane Messi Tanfouri        R. Messi           France   \n",
       "\n",
       "         club_name player_positions  player_id  \n",
       "240    Inter Miami  RW, ST, CAM, RM     158023  \n",
       "1327         Genoa      CM, RM, CAM     240938  \n",
       "11175  CD Nacional       ST, RW, RM      79479  \n",
       "12715       Pau FC           LM, LW      75421  "
      ]
     },
     "execution_count": 287,
     "metadata": {},
     "output_type": "execute_result"
    }
   ],
   "source": [
    "# Find player ID\n",
    "get_player_id('messi')"
   ]
  },
  {
   "cell_type": "code",
   "execution_count": 288,
   "id": "80f1e9ab",
   "metadata": {},
   "outputs": [
    {
     "data": {
      "text/html": [
       "<div>\n",
       "<style scoped>\n",
       "    .dataframe tbody tr th:only-of-type {\n",
       "        vertical-align: middle;\n",
       "    }\n",
       "\n",
       "    .dataframe tbody tr th {\n",
       "        vertical-align: top;\n",
       "    }\n",
       "\n",
       "    .dataframe thead th {\n",
       "        text-align: right;\n",
       "    }\n",
       "</style>\n",
       "<table border=\"1\" class=\"dataframe\">\n",
       "  <thead>\n",
       "    <tr style=\"text-align: right;\">\n",
       "      <th></th>\n",
       "      <th>short_name</th>\n",
       "      <th>player_positions</th>\n",
       "      <th>overall</th>\n",
       "      <th>pace</th>\n",
       "      <th>shooting</th>\n",
       "      <th>passing</th>\n",
       "      <th>dribbling</th>\n",
       "      <th>defending</th>\n",
       "      <th>physic</th>\n",
       "      <th>value_eur</th>\n",
       "      <th>similarity</th>\n",
       "    </tr>\n",
       "  </thead>\n",
       "  <tbody>\n",
       "    <tr>\n",
       "      <th>0</th>\n",
       "      <td>C. Nkunku</td>\n",
       "      <td>CAM, LM, ST, CM</td>\n",
       "      <td>81</td>\n",
       "      <td>77.0</td>\n",
       "      <td>79.0</td>\n",
       "      <td>80.0</td>\n",
       "      <td>82.0</td>\n",
       "      <td>40.0</td>\n",
       "      <td>59.0</td>\n",
       "      <td>27500000</td>\n",
       "      <td>0.9911</td>\n",
       "    </tr>\n",
       "    <tr>\n",
       "      <th>1</th>\n",
       "      <td>R. Mahrez</td>\n",
       "      <td>RM, RW</td>\n",
       "      <td>84</td>\n",
       "      <td>78.0</td>\n",
       "      <td>80.0</td>\n",
       "      <td>81.0</td>\n",
       "      <td>88.0</td>\n",
       "      <td>39.0</td>\n",
       "      <td>63.0</td>\n",
       "      <td>20000000</td>\n",
       "      <td>0.9892</td>\n",
       "    </tr>\n",
       "    <tr>\n",
       "      <th>2</th>\n",
       "      <td>S. Benrahma</td>\n",
       "      <td>LW, LM, CAM</td>\n",
       "      <td>77</td>\n",
       "      <td>75.0</td>\n",
       "      <td>75.0</td>\n",
       "      <td>74.0</td>\n",
       "      <td>80.0</td>\n",
       "      <td>42.0</td>\n",
       "      <td>61.0</td>\n",
       "      <td>10500000</td>\n",
       "      <td>0.9860</td>\n",
       "    </tr>\n",
       "    <tr>\n",
       "      <th>3</th>\n",
       "      <td>Ivi López</td>\n",
       "      <td>CAM, ST, LW</td>\n",
       "      <td>73</td>\n",
       "      <td>73.0</td>\n",
       "      <td>72.0</td>\n",
       "      <td>72.0</td>\n",
       "      <td>75.0</td>\n",
       "      <td>40.0</td>\n",
       "      <td>66.0</td>\n",
       "      <td>2500000</td>\n",
       "      <td>0.9857</td>\n",
       "    </tr>\n",
       "    <tr>\n",
       "      <th>4</th>\n",
       "      <td>P. Dybala</td>\n",
       "      <td>CAM, ST</td>\n",
       "      <td>86</td>\n",
       "      <td>80.0</td>\n",
       "      <td>85.0</td>\n",
       "      <td>84.0</td>\n",
       "      <td>87.0</td>\n",
       "      <td>41.0</td>\n",
       "      <td>64.0</td>\n",
       "      <td>56500000</td>\n",
       "      <td>0.9853</td>\n",
       "    </tr>\n",
       "  </tbody>\n",
       "</table>\n",
       "</div>"
      ],
      "text/plain": [
       "    short_name player_positions  overall  pace  shooting  passing  dribbling  \\\n",
       "0    C. Nkunku  CAM, LM, ST, CM       81  77.0      79.0     80.0       82.0   \n",
       "1    R. Mahrez           RM, RW       84  78.0      80.0     81.0       88.0   \n",
       "2  S. Benrahma      LW, LM, CAM       77  75.0      75.0     74.0       80.0   \n",
       "3    Ivi López      CAM, ST, LW       73  73.0      72.0     72.0       75.0   \n",
       "4    P. Dybala          CAM, ST       86  80.0      85.0     84.0       87.0   \n",
       "\n",
       "   defending  physic  value_eur  similarity  \n",
       "0       40.0    59.0   27500000      0.9911  \n",
       "1       39.0    63.0   20000000      0.9892  \n",
       "2       42.0    61.0   10500000      0.9860  \n",
       "3       40.0    66.0    2500000      0.9857  \n",
       "4       41.0    64.0   56500000      0.9853  "
      ]
     },
     "execution_count": 288,
     "metadata": {},
     "output_type": "execute_result"
    }
   ],
   "source": [
    "# Input player_id from search\n",
    "find_similar_players_skill(158023)"
   ]
  },
  {
   "cell_type": "markdown",
   "id": "4b320a32",
   "metadata": {},
   "source": [
    "## Thoughts\n",
    "\n",
    "#### Quick note on the brief quality checks completed and the recommended feature selection. \n",
    "\n",
    "Short explanaition: Select for detailed attributes only\n",
    "\n",
    "\n",
    "Longer explanaition: I checked each feature-selection option for its player suggestion capabilities. I looked at outfield players that were perhaps generally average but possessed some key attributes that were really good. These were best taken into account when only skill attributes were selected. For goalkeepers, a key differential in real-life is whether they can pass the ball well or not? Again, using only skill attributes produces a matching engine which best picks up these key differences.  "
   ]
  },
  {
   "cell_type": "markdown",
   "id": "3ee59f32",
   "metadata": {},
   "source": [
    "# Appendix\n",
    "\n",
    "#### Check which features are contributing the Principal Components the most"
   ]
  },
  {
   "cell_type": "code",
   "execution_count": 283,
   "id": "14996658",
   "metadata": {},
   "outputs": [],
   "source": [
    "# Get PCA loadings (how much each feature contributes to each PC)\n",
    "loadings = pd.DataFrame(\n",
    "    pca_attributes.components_.T,  # transpose so features are rows\n",
    "    index=X_attributes.columns\n",
    ")\n",
    "# Sort features by their importance for each principal component\n",
    "top_features_pc1 = loadings[0].abs().sort_values(ascending=False).head(10)\n",
    "top_features_pc2 = loadings[1].abs().sort_values(ascending=False).head(10)\n",
    "top_features_pc3 = loadings[2].abs().sort_values(ascending=False).head(10)\n"
   ]
  },
  {
   "cell_type": "code",
   "execution_count": 284,
   "id": "f3b20451",
   "metadata": {},
   "outputs": [
    {
     "name": "stdout",
     "output_type": "stream",
     "text": [
      "Top 10 features contributing to PC1:\n",
      "skill_dribbling            0.219746\n",
      "mentality_positioning      0.212253\n",
      "skill_ball_control         0.209270\n",
      "power_long_shots           0.209129\n",
      "attacking_crossing         0.201012\n",
      "skill_curve                0.200872\n",
      "goalkeeping_reflexes       0.197293\n",
      "attacking_finishing        0.195224\n",
      "goalkeeping_diving         0.194586\n",
      "goalkeeping_positioning    0.188853\n",
      "Name: 0, dtype: float64\n"
     ]
    }
   ],
   "source": [
    "print(\"Top 10 features contributing to PC1:\")\n",
    "print(top_features_pc1)\n"
   ]
  },
  {
   "cell_type": "code",
   "execution_count": 285,
   "id": "a75eef04",
   "metadata": {},
   "outputs": [
    {
     "name": "stdout",
     "output_type": "stream",
     "text": [
      "Top 10 features contributing to PC2:\n",
      "defending_sliding_tackle       0.389264\n",
      "defending_standing_tackle      0.382208\n",
      "mentality_interceptions        0.374323\n",
      "defending_marking_awareness    0.364459\n",
      "attacking_finishing            0.247276\n",
      "power_long_shots               0.200681\n",
      "attacking_volleys              0.196468\n",
      "mentality_aggression           0.190234\n",
      "power_shot_power               0.177083\n",
      "mentality_positioning          0.174197\n",
      "Name: 1, dtype: float64\n"
     ]
    }
   ],
   "source": [
    "print(\"Top 10 features contributing to PC2:\")\n",
    "print(top_features_pc2)\n"
   ]
  },
  {
   "cell_type": "code",
   "execution_count": 286,
   "id": "23a4fc36",
   "metadata": {},
   "outputs": [
    {
     "name": "stdout",
     "output_type": "stream",
     "text": [
      "Top 10 features contributing to PC3:\n",
      "movement_reactions         0.327516\n",
      "power_jumping              0.293875\n",
      "power_shot_power           0.287840\n",
      "power_strength             0.281454\n",
      "goalkeeping_reflexes       0.269546\n",
      "goalkeeping_diving         0.264080\n",
      "goalkeeping_positioning    0.262227\n",
      "goalkeeping_handling       0.256147\n",
      "goalkeeping_kicking        0.250196\n",
      "mentality_composure        0.225248\n",
      "Name: 2, dtype: float64\n"
     ]
    }
   ],
   "source": [
    "print(\"Top 10 features contributing to PC3:\")\n",
    "print(top_features_pc3)"
   ]
  }
 ],
 "metadata": {
  "language_info": {
   "name": "python"
  }
 },
 "nbformat": 4,
 "nbformat_minor": 5
}
